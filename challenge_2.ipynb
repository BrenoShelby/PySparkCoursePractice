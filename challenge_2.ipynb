{
 "cells": [
  {
   "cell_type": "markdown",
   "id": "2b392888-9be3-484e-825a-a7ac04fbe020",
   "metadata": {},
   "source": [
    "# Challenge 2"
   ]
  },
  {
   "cell_type": "code",
   "execution_count": 1,
   "id": "62f12d51-7840-49b8-b74e-44a70c6390b5",
   "metadata": {},
   "outputs": [],
   "source": [
    "from pyspark.sql import SparkSession\n",
    "from pyspark.sql.functions import col, split, to_date, year, month\n",
    "import pyspark.sql.types as types"
   ]
  },
  {
   "cell_type": "code",
   "execution_count": 2,
   "id": "74ecdf4d-c9c5-4a73-8594-2f4915e2520a",
   "metadata": {},
   "outputs": [],
   "source": [
    "spark = (\n",
    "    SparkSession.\n",
    "    builder.\n",
    "    appName('spark_challenge_2').\n",
    "    getOrCreate()\n",
    ")"
   ]
  },
  {
   "cell_type": "code",
   "execution_count": 3,
   "id": "8511ccdb-ec61-4a53-89d1-07bd0aae52d0",
   "metadata": {},
   "outputs": [
    {
     "name": "stdout",
     "output_type": "stream",
     "text": [
      "+--------+--------------------+----------------+----------+--------------+--------------------+\n",
      "|Order ID|             Product|Quantity Ordered|Price Each|    Order Date|    Purchase Address|\n",
      "+--------+--------------------+----------------+----------+--------------+--------------------+\n",
      "|  295665|  Macbook Pro Laptop|               1|      1700|12/30/19 00:01|136 Church St, Ne...|\n",
      "|  295666|  LG Washing Machine|               1|     600.0|12/29/19 07:03|562 2nd St, New Y...|\n",
      "|  295667|USB-C Charging Cable|               1|     11.95|12/12/19 18:21|277 Main St, New ...|\n",
      "|  295668|    27in FHD Monitor|               1|    149.99|12/22/19 15:13|410 6th St, San F...|\n",
      "|  295669|USB-C Charging Cable|               1|     11.95|12/18/19 12:38|43 Hill St, Atlan...|\n",
      "|  295670|AA Batteries (4-p...|               1|      3.84|12/31/19 22:58|200 Jefferson St,...|\n",
      "|  295671|USB-C Charging Cable|               1|     11.95|12/16/19 15:10|928 12th St, Port...|\n",
      "|  295672|USB-C Charging Cable|               2|     11.95|12/13/19 09:29|813 Hickory St, D...|\n",
      "|  295673|Bose SoundSport H...|               1|     99.99|12/15/19 23:26|718 Wilson St, Da...|\n",
      "|  295674|AAA Batteries (4-...|               4|      2.99|12/28/19 11:51|77 7th St, Dallas...|\n",
      "+--------+--------------------+----------------+----------+--------------+--------------------+\n",
      "only showing top 10 rows\n",
      "\n"
     ]
    }
   ],
   "source": [
    "sales_df = (\n",
    "    spark.\n",
    "    read.\n",
    "    option('header', True).\n",
    "    csv('./data/salesdata')\n",
    ")\n",
    "\n",
    "sales_df.show(10)"
   ]
  },
  {
   "cell_type": "code",
   "execution_count": 4,
   "id": "ee5d5b89-4e20-4585-95d1-d6d62143ef99",
   "metadata": {},
   "outputs": [
    {
     "name": "stdout",
     "output_type": "stream",
     "text": [
      "root\n",
      " |-- Order ID: string (nullable = true)\n",
      " |-- Product: string (nullable = true)\n",
      " |-- Quantity Ordered: string (nullable = true)\n",
      " |-- Price Each: string (nullable = true)\n",
      " |-- Order Date: string (nullable = true)\n",
      " |-- Purchase Address: string (nullable = true)\n",
      "\n"
     ]
    }
   ],
   "source": [
    "sales_df.printSchema()"
   ]
  },
  {
   "cell_type": "markdown",
   "id": "31b76223-ffe6-4f8b-8ad4-1d0c3b0b184d",
   "metadata": {},
   "source": [
    "### Remove Bad Records"
   ]
  },
  {
   "cell_type": "code",
   "execution_count": 5,
   "id": "2967c3b2-a593-4f80-b90a-d03c77441fb3",
   "metadata": {},
   "outputs": [],
   "source": [
    "sales_df_clean = sales_df.filter(col(\"Order ID\").isNull() == False)"
   ]
  },
  {
   "cell_type": "code",
   "execution_count": 6,
   "id": "bdd64fa7-8941-4d8f-b3c9-2b0ac42d0b97",
   "metadata": {},
   "outputs": [
    {
     "name": "stdout",
     "output_type": "stream",
     "text": [
      "+--------+--------------------+----------------+----------+--------------+--------------------+\n",
      "|Order ID|             Product|Quantity Ordered|Price Each|    Order Date|    Purchase Address|\n",
      "+--------+--------------------+----------------+----------+--------------+--------------------+\n",
      "|  295665|  Macbook Pro Laptop|               1|      1700|12/30/19 00:01|136 Church St, Ne...|\n",
      "|  295666|  LG Washing Machine|               1|     600.0|12/29/19 07:03|562 2nd St, New Y...|\n",
      "|  295667|USB-C Charging Cable|               1|     11.95|12/12/19 18:21|277 Main St, New ...|\n",
      "|  295668|    27in FHD Monitor|               1|    149.99|12/22/19 15:13|410 6th St, San F...|\n",
      "|  295669|USB-C Charging Cable|               1|     11.95|12/18/19 12:38|43 Hill St, Atlan...|\n",
      "+--------+--------------------+----------------+----------+--------------+--------------------+\n",
      "only showing top 5 rows\n",
      "\n"
     ]
    }
   ],
   "source": [
    "sales_df_clean.show(5)"
   ]
  },
  {
   "cell_type": "code",
   "execution_count": 7,
   "id": "f862a7df-663a-4067-870a-6f80f2005b33",
   "metadata": {},
   "outputs": [
    {
     "data": {
      "text/plain": [
       "186850"
      ]
     },
     "execution_count": 7,
     "metadata": {},
     "output_type": "execute_result"
    }
   ],
   "source": [
    "sales_df.count()"
   ]
  },
  {
   "cell_type": "code",
   "execution_count": 8,
   "id": "e4fc7681-aa48-4d81-994c-a7eac99307d0",
   "metadata": {},
   "outputs": [
    {
     "data": {
      "text/plain": [
       "186305"
      ]
     },
     "execution_count": 8,
     "metadata": {},
     "output_type": "execute_result"
    }
   ],
   "source": [
    "sales_df_clean.count()"
   ]
  },
  {
   "cell_type": "markdown",
   "id": "ef0dd3a0-0622-4e62-9f1f-1488124dc5ee",
   "metadata": {},
   "source": [
    "### Extract City and State from Address into New Columns"
   ]
  },
  {
   "cell_type": "code",
   "execution_count": 9,
   "id": "4c88f066-3d74-449c-ac00-305a9eabb3e9",
   "metadata": {},
   "outputs": [],
   "source": [
    "sales_df = (\n",
    "    sales_df_clean.\n",
    "    select(\n",
    "        '*', \n",
    "        split(col('Purchase Address'), ', ').getItem(1).alias('City'),\n",
    "        split(split(col('Purchase Address'), ', ').getItem(2), ' ').getItem(0).alias('State')\n",
    "    )   \n",
    ")"
   ]
  },
  {
   "cell_type": "code",
   "execution_count": 10,
   "id": "555215ec-428f-4130-b306-5dc92425b8c5",
   "metadata": {},
   "outputs": [
    {
     "name": "stdout",
     "output_type": "stream",
     "text": [
      "+--------+--------------------+----------------+----------+--------------+--------------------+-------------+-----+\n",
      "|Order ID|             Product|Quantity Ordered|Price Each|    Order Date|    Purchase Address|         City|State|\n",
      "+--------+--------------------+----------------+----------+--------------+--------------------+-------------+-----+\n",
      "|  295665|  Macbook Pro Laptop|               1|      1700|12/30/19 00:01|136 Church St, Ne...|New York City|   NY|\n",
      "|  295666|  LG Washing Machine|               1|     600.0|12/29/19 07:03|562 2nd St, New Y...|New York City|   NY|\n",
      "|  295667|USB-C Charging Cable|               1|     11.95|12/12/19 18:21|277 Main St, New ...|New York City|   NY|\n",
      "|  295668|    27in FHD Monitor|               1|    149.99|12/22/19 15:13|410 6th St, San F...|San Francisco|   CA|\n",
      "|  295669|USB-C Charging Cable|               1|     11.95|12/18/19 12:38|43 Hill St, Atlan...|      Atlanta|   GA|\n",
      "+--------+--------------------+----------------+----------+--------------+--------------------+-------------+-----+\n",
      "only showing top 5 rows\n",
      "\n"
     ]
    }
   ],
   "source": [
    "sales_df.show(5)"
   ]
  },
  {
   "cell_type": "markdown",
   "id": "54ef6327-5204-4b4a-a6fa-d88e0a3474e5",
   "metadata": {},
   "source": [
    "### Rename the columns and change the datatype of a columns"
   ]
  },
  {
   "cell_type": "code",
   "execution_count": 11,
   "id": "c5f8ef14-1903-4532-8586-a8e6baafd04f",
   "metadata": {},
   "outputs": [],
   "source": [
    "sales_df = (\n",
    "    sales_df.\n",
    "    select(\n",
    "        col('Order ID').cast('int').alias('OrderID'),\n",
    "        col('Product').cast('string'),\n",
    "        col('Quantity Ordered').cast('int').alias('QuantityOrdered'),\n",
    "        col('Price Each').cast(types.FloatType()).alias('Price'),\n",
    "        to_date(col('Order Date'), 'MM/dd/yy HH:mm').alias('OrderDate'),\n",
    "        col('Purchase Address').cast(types.StringType()).alias('StoreAddress'),\n",
    "        col('City').cast('string'),\n",
    "        col('State').cast('string')\n",
    "    )\n",
    ")"
   ]
  },
  {
   "cell_type": "code",
   "execution_count": 12,
   "id": "57300f06-bb21-4139-b320-499748ad5665",
   "metadata": {},
   "outputs": [
    {
     "name": "stdout",
     "output_type": "stream",
     "text": [
      "+-------+--------------------+---------------+------+----------+--------------------+-------------+-----+\n",
      "|OrderID|             Product|QuantityOrdered| Price| OrderDate|        StoreAddress|         City|State|\n",
      "+-------+--------------------+---------------+------+----------+--------------------+-------------+-----+\n",
      "| 295665|  Macbook Pro Laptop|              1|1700.0|2019-12-30|136 Church St, Ne...|New York City|   NY|\n",
      "| 295666|  LG Washing Machine|              1| 600.0|2019-12-29|562 2nd St, New Y...|New York City|   NY|\n",
      "| 295667|USB-C Charging Cable|              1| 11.95|2019-12-12|277 Main St, New ...|New York City|   NY|\n",
      "| 295668|    27in FHD Monitor|              1|149.99|2019-12-22|410 6th St, San F...|San Francisco|   CA|\n",
      "| 295669|USB-C Charging Cable|              1| 11.95|2019-12-18|43 Hill St, Atlan...|      Atlanta|   GA|\n",
      "+-------+--------------------+---------------+------+----------+--------------------+-------------+-----+\n",
      "only showing top 5 rows\n",
      "\n"
     ]
    }
   ],
   "source": [
    "sales_df.show(5)"
   ]
  },
  {
   "cell_type": "markdown",
   "id": "adf5abff-3ba9-44c2-8462-57cc2b68268e",
   "metadata": {},
   "source": [
    "### Adding the column Year and the column Month"
   ]
  },
  {
   "cell_type": "code",
   "execution_count": 13,
   "id": "41b4cf43-28b7-448a-826b-0e4171f5842f",
   "metadata": {},
   "outputs": [],
   "source": [
    "sales_df = (\n",
    "    sales_df.\n",
    "    withColumn('Year', year('OrderDate')).\n",
    "    withColumn('Month', month('OrderDate'))\n",
    ")"
   ]
  },
  {
   "cell_type": "markdown",
   "id": "0d885c94-9942-4ea9-a373-51440601cc94",
   "metadata": {},
   "source": [
    "### Dropping any row that contains null values"
   ]
  },
  {
   "cell_type": "code",
   "execution_count": 14,
   "id": "f5f73cc5-3fb3-4227-9c52-295f453a0da8",
   "metadata": {},
   "outputs": [
    {
     "data": {
      "text/plain": [
       "186305"
      ]
     },
     "execution_count": 14,
     "metadata": {},
     "output_type": "execute_result"
    }
   ],
   "source": [
    "sales_df.count()"
   ]
  },
  {
   "cell_type": "code",
   "execution_count": 15,
   "id": "f56caf23-6391-4820-b0dd-70bf1210f298",
   "metadata": {},
   "outputs": [],
   "source": [
    "sales_df = sales_df.dropna()"
   ]
  },
  {
   "cell_type": "code",
   "execution_count": 16,
   "id": "193a176e-48bf-449f-ab5a-ec341d723dad",
   "metadata": {},
   "outputs": [
    {
     "data": {
      "text/plain": [
       "185950"
      ]
     },
     "execution_count": 16,
     "metadata": {},
     "output_type": "execute_result"
    }
   ],
   "source": [
    "sales_df.count()"
   ]
  },
  {
   "cell_type": "markdown",
   "id": "f7377746-d25c-46d0-94c3-e08a87c3d7ed",
   "metadata": {},
   "source": [
    "### Writting the records in parquet file"
   ]
  },
  {
   "cell_type": "code",
   "execution_count": 17,
   "id": "708ad091-ede5-4b91-bf23-ff42abcc90f6",
   "metadata": {},
   "outputs": [],
   "source": [
    "(\n",
    "    sales_df.\n",
    "    write.\n",
    "    mode('overwrite').\n",
    "    partitionBy('Year', 'Month').\n",
    "    parquet('data/sales_cleaned_and_transformed.parquet')\n",
    ")"
   ]
  },
  {
   "cell_type": "code",
   "execution_count": null,
   "id": "0c110a28-9d3b-4bcf-bb73-8108094a7cca",
   "metadata": {},
   "outputs": [],
   "source": []
  },
  {
   "cell_type": "code",
   "execution_count": null,
   "id": "8c7fbcdb-c7f1-40f9-bd6d-adb67964aed7",
   "metadata": {},
   "outputs": [],
   "source": []
  }
 ],
 "metadata": {
  "kernelspec": {
   "display_name": "Python 3 (ipykernel)",
   "language": "python",
   "name": "python3"
  },
  "language_info": {
   "codemirror_mode": {
    "name": "ipython",
    "version": 3
   },
   "file_extension": ".py",
   "mimetype": "text/x-python",
   "name": "python",
   "nbconvert_exporter": "python",
   "pygments_lexer": "ipython3",
   "version": "3.9.7"
  }
 },
 "nbformat": 4,
 "nbformat_minor": 5
}
