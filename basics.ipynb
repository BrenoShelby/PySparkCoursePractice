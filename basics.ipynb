{
 "cells": [
  {
   "cell_type": "code",
   "execution_count": 2,
   "id": "f7516efc-297a-4098-aa03-616ffccbdddc",
   "metadata": {},
   "outputs": [],
   "source": [
    "from pyspark.sql import SparkSession\n",
    "from pyspark.sql.functions import count"
   ]
  },
  {
   "cell_type": "code",
   "execution_count": 3,
   "id": "73277ce2-ab20-492e-98ff-581cb051cfdf",
   "metadata": {},
   "outputs": [
    {
     "name": "stderr",
     "output_type": "stream",
     "text": [
      "21/09/29 21:26:59 WARN Utils: Your hostname, breno-indra resolves to a loopback address: 127.0.1.1; using 192.168.15.5 instead (on interface wlo1)\n",
      "21/09/29 21:26:59 WARN Utils: Set SPARK_LOCAL_IP if you need to bind to another address\n",
      "WARNING: An illegal reflective access operation has occurred\n",
      "WARNING: Illegal reflective access by org.apache.spark.unsafe.Platform (file:/home/breno/.local/lib/python3.9/site-packages/pyspark/jars/spark-unsafe_2.12-3.0.1.jar) to constructor java.nio.DirectByteBuffer(long,int)\n",
      "WARNING: Please consider reporting this to the maintainers of org.apache.spark.unsafe.Platform\n",
      "WARNING: Use --illegal-access=warn to enable warnings of further illegal reflective access operations\n",
      "WARNING: All illegal access operations will be denied in a future release\n",
      "21/09/29 21:27:00 WARN NativeCodeLoader: Unable to load native-hadoop library for your platform... using builtin-java classes where applicable\n",
      "Using Spark's default log4j profile: org/apache/spark/log4j-defaults.properties\n",
      "Setting default log level to \"WARN\".\n",
      "To adjust logging level use sc.setLogLevel(newLevel). For SparkR, use setLogLevel(newLevel).\n"
     ]
    }
   ],
   "source": [
    "spark = "
   ]
  },
  {
   "cell_type": "code",
   "execution_count": 19,
   "id": "c3279f7f-29bd-4952-89da-b2e74912e7d3",
   "metadata": {},
   "outputs": [],
   "source": [
    "words_list = \"Sparks makes my life easier and put me into good Spirits, Sparks is too crazy\".split(\" \")"
   ]
  },
  {
   "cell_type": "code",
   "execution_count": 20,
   "id": "3d3691fb-a6b0-4065-a82f-791d56f3afe9",
   "metadata": {},
   "outputs": [],
   "source": [
    "words_rdd = spark.sparkContext.parallelize(words_list)"
   ]
  },
  {
   "cell_type": "code",
   "execution_count": 21,
   "id": "aa6b2ad5-20fa-4964-bdd2-2eb6cbfa860e",
   "metadata": {},
   "outputs": [],
   "source": [
    "words_data = words_rdd.collect()"
   ]
  },
  {
   "cell_type": "code",
   "execution_count": 22,
   "id": "596a3edb-de88-49d1-b101-bfd9ce6f0027",
   "metadata": {},
   "outputs": [
    {
     "name": "stdout",
     "output_type": "stream",
     "text": [
      "Sparks\n",
      "makes\n",
      "my\n",
      "life\n",
      "easier\n",
      "and\n",
      "put\n",
      "me\n",
      "into\n",
      "good\n",
      "Spirits,\n",
      "Sparks\n",
      "is\n",
      "too\n",
      "crazy\n"
     ]
    }
   ],
   "source": [
    "for word in words_data:\n",
    "    print(word)"
   ]
  },
  {
   "cell_type": "code",
   "execution_count": 23,
   "id": "5bf82f1c-1794-4f29-8e59-8574d9ea76eb",
   "metadata": {},
   "outputs": [
    {
     "data": {
      "text/plain": [
       "ParallelCollectionRDD[13] at readRDDFromFile at PythonRDD.scala:262"
      ]
     },
     "execution_count": 23,
     "metadata": {},
     "output_type": "execute_result"
    }
   ],
   "source": [
    "words_rdd"
   ]
  },
  {
   "cell_type": "code",
   "execution_count": 24,
   "id": "9f2b6a1b-945a-43fe-979d-41167af0bf14",
   "metadata": {},
   "outputs": [
    {
     "data": {
      "text/plain": [
       "15"
      ]
     },
     "execution_count": 24,
     "metadata": {},
     "output_type": "execute_result"
    }
   ],
   "source": [
    "words_rdd.count()"
   ]
  },
  {
   "cell_type": "code",
   "execution_count": 25,
   "id": "71adb45f-cfe2-4bfa-a098-167d2f582f8c",
   "metadata": {},
   "outputs": [
    {
     "data": {
      "text/plain": [
       "14"
      ]
     },
     "execution_count": 25,
     "metadata": {},
     "output_type": "execute_result"
    }
   ],
   "source": [
    "words_rdd.distinct().count()"
   ]
  },
  {
   "cell_type": "code",
   "execution_count": 26,
   "id": "fca1a14b-f2ac-45c1-b3ec-361f4ff3e94f",
   "metadata": {},
   "outputs": [
    {
     "name": "stdout",
     "output_type": "stream",
     "text": [
      "Sparks\n",
      "makes\n",
      "my\n",
      "life\n",
      "easier\n",
      "and\n",
      "put\n",
      "me\n",
      "into\n",
      "good\n",
      "Spirits,\n",
      "Sparks\n",
      "is\n",
      "too\n",
      "crazy\n"
     ]
    }
   ],
   "source": [
    "words_data = words_rdd.collect()\n",
    "\n",
    "for word in words_data:\n",
    "    print(word)"
   ]
  },
  {
   "cell_type": "code",
   "execution_count": 27,
   "id": "55babca9-7483-4908-bda8-92939efdf8ee",
   "metadata": {},
   "outputs": [],
   "source": [
    "words_unique_rdd = words_rdd.distinct()"
   ]
  },
  {
   "cell_type": "code",
   "execution_count": 31,
   "id": "b4f26c73-e19c-4bf7-b314-ca9b2ad74d58",
   "metadata": {},
   "outputs": [
    {
     "name": "stdout",
     "output_type": "stream",
     "text": [
      "good\n",
      "crazy\n",
      "makes\n",
      "life\n",
      "Spirits,\n",
      "my\n",
      "easier\n",
      "too\n",
      "Sparks\n",
      "put\n",
      "and\n",
      "into\n",
      "is\n",
      "me\n"
     ]
    }
   ],
   "source": [
    "for word in words_unique_rdd.collect():\n",
    "    print(word)"
   ]
  },
  {
   "cell_type": "code",
   "execution_count": 32,
   "id": "a975e5b7-4f98-4ef5-86fe-75166f7baa4a",
   "metadata": {},
   "outputs": [
    {
     "name": "stdout",
     "output_type": "stream",
     "text": [
      "[1, 2, 3, 4, 5, 6, 7, 8, 9, 10, 11, 12, 13, 14, 15, 16, 17, 18, 19, 20]\n"
     ]
    }
   ],
   "source": [
    "num_list = [*range(1, 21)]\n",
    "print(num_list)"
   ]
  },
  {
   "cell_type": "code",
   "execution_count": 33,
   "id": "fcd29acd-acc6-4d49-8b56-169bf7504361",
   "metadata": {},
   "outputs": [],
   "source": [
    "def word_startswith(word, letter):\n",
    "    return word.startswith(letter)"
   ]
  },
  {
   "cell_type": "code",
   "execution_count": 34,
   "id": "0a6de49c-369b-4eaa-9aa5-2f8f111a9c66",
   "metadata": {},
   "outputs": [],
   "source": [
    "nums_rdd = spark.sparkContext.parallelize(num_list)"
   ]
  },
  {
   "cell_type": "code",
   "execution_count": 35,
   "id": "54d6e0d1-17b5-4028-a462-7df361d28311",
   "metadata": {},
   "outputs": [
    {
     "data": {
      "text/plain": [
       "['S', 'p', 'a', 'r', 'k', 's', 'm', 'a', 'k', 'e']"
      ]
     },
     "execution_count": 35,
     "metadata": {},
     "output_type": "execute_result"
    }
   ],
   "source": [
    "words_rdd.flatMap(lambda word: list(word)).take(10)"
   ]
  },
  {
   "cell_type": "code",
   "execution_count": 36,
   "id": "1b2a81a7-fd47-442c-b3ec-be1ccb6add91",
   "metadata": {},
   "outputs": [],
   "source": [
    "countries_list = [('Brasil', 20), ('Alemanha', 22), ('Australia', 20)]"
   ]
  },
  {
   "cell_type": "code",
   "execution_count": 37,
   "id": "af23bbaf-f6b3-4d7c-88dc-9ba6d42f1241",
   "metadata": {},
   "outputs": [],
   "source": [
    "countries_rdd = spark.sparkContext.parallelize(countries_list)"
   ]
  },
  {
   "cell_type": "code",
   "execution_count": 38,
   "id": "861ff1cf-ce35-436d-94b6-fc222e430e53",
   "metadata": {},
   "outputs": [],
   "source": [
    "srtd_countries_list = countries_rdd.sortByKey().collect()"
   ]
  },
  {
   "cell_type": "code",
   "execution_count": 40,
   "id": "98f6718e-d298-4fb8-bc5e-e7d991446029",
   "metadata": {},
   "outputs": [
    {
     "name": "stdout",
     "output_type": "stream",
     "text": [
      "('Alemanha', 22)\n",
      "('Australia', 20)\n",
      "('Brasil', 20)\n"
     ]
    }
   ],
   "source": [
    "for c in srtd_countries_list:\n",
    "    print(c)"
   ]
  },
  {
   "cell_type": "code",
   "execution_count": 41,
   "id": "e7762518-e136-4241-924b-fd8191426076",
   "metadata": {},
   "outputs": [],
   "source": [
    "srtd_countries_list = countries_rdd.map(lambda c: (c[1], c[0])).sortByKey(False).collect()"
   ]
  },
  {
   "cell_type": "code",
   "execution_count": 42,
   "id": "f0a735f6-f67d-42af-bbdf-22ded1e4b95d",
   "metadata": {},
   "outputs": [
    {
     "data": {
      "text/plain": [
       "[(22, 'Alemanha'), (20, 'Brasil'), (20, 'Australia')]"
      ]
     },
     "execution_count": 42,
     "metadata": {},
     "output_type": "execute_result"
    }
   ],
   "source": [
    "srtd_countries_list"
   ]
  },
  {
   "cell_type": "code",
   "execution_count": 43,
   "id": "0747e8a5-f87a-4952-b97a-8e751c548804",
   "metadata": {},
   "outputs": [],
   "source": [
    "num_list = [1, 5, 3, 4]"
   ]
  },
  {
   "cell_type": "code",
   "execution_count": 44,
   "id": "17489e78-ea32-4234-8f35-90b16eeb6153",
   "metadata": {},
   "outputs": [
    {
     "data": {
      "text/plain": [
       "13"
      ]
     },
     "execution_count": 44,
     "metadata": {},
     "output_type": "execute_result"
    }
   ],
   "source": [
    "result = spark.sparkContext.parallelize(num_list).reduce(lambda x, y: x + y)\n",
    "result"
   ]
  },
  {
   "cell_type": "code",
   "execution_count": 45,
   "id": "98a6224d-9f54-4997-8ce5-6b1d32333385",
   "metadata": {},
   "outputs": [],
   "source": [
    "days_temperature = [65, 45.6, 67.6, 34.5, 87.7]\n",
    "\n",
    "days_temperature_rdd = spark.sparkContext.parallelize(days_temperature)"
   ]
  },
  {
   "cell_type": "code",
   "execution_count": 46,
   "id": "09bb0268-4f6a-48cc-bc9c-c6b36188eee0",
   "metadata": {},
   "outputs": [],
   "source": [
    "def convert_to_celsius(temperature):\n",
    "    return (temperature - 35) * 5/9"
   ]
  },
  {
   "cell_type": "code",
   "execution_count": 47,
   "id": "0698c331-d830-43d4-88bb-11046795f8c4",
   "metadata": {},
   "outputs": [],
   "source": [
    "days_temperature_rdd_celsius = days_temperature_rdd.map(lambda x: convert_to_celsius(x))"
   ]
  },
  {
   "cell_type": "code",
   "execution_count": 50,
   "id": "c2ee0bf8-1d43-4232-a050-a8349738e9c1",
   "metadata": {},
   "outputs": [
    {
     "name": "stdout",
     "output_type": "stream",
     "text": [
      "16.666666666666668\n",
      "5.888888888888889\n",
      "18.111111111111107\n",
      "-0.2777777777777778\n",
      "29.27777777777778\n"
     ]
    }
   ],
   "source": [
    "for d in days_temperature_rdd_celsius.collect():\n",
    "    print(d)"
   ]
  },
  {
   "cell_type": "code",
   "execution_count": null,
   "id": "8b8d5291-9a45-4fcc-94a2-b031d376c2d9",
   "metadata": {},
   "outputs": [],
   "source": [
    "days_temperature_rdd_celsius"
   ]
  }
 ],
 "metadata": {
  "kernelspec": {
   "display_name": "Python 3 (ipykernel)",
   "language": "python",
   "name": "python3"
  },
  "language_info": {
   "codemirror_mode": {
    "name": "ipython",
    "version": 3
   },
   "file_extension": ".py",
   "mimetype": "text/x-python",
   "name": "python",
   "nbconvert_exporter": "python",
   "pygments_lexer": "ipython3",
   "version": "3.9.5"
  }
 },
 "nbformat": 4,
 "nbformat_minor": 5
}
