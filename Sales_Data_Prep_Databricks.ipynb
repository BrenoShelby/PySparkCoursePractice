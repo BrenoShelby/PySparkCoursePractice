{
 "cells": [
  {
   "cell_type": "markdown",
   "metadata": {},
   "source": [
    "# Notebook Databricks"
   ]
  },
  {
   "cell_type": "code",
   "execution_count": 1,
   "metadata": {
    "application/vnd.databricks.v1+cell": {
     "inputWidgets": {},
     "nuid": "6f494171-cef6-47ce-ae41-e599ecb0a4e7",
     "showTitle": false,
     "title": ""
    }
   },
   "outputs": [],
   "source": [
    "from pyspark.sql import SparkSession\n",
    "import pyspark.sql.types as types"
   ]
  },
  {
   "cell_type": "code",
   "execution_count": 2,
   "metadata": {
    "application/vnd.databricks.v1+cell": {
     "inputWidgets": {},
     "nuid": "bbd361d2-0a2e-4ae5-8325-390847417244",
     "showTitle": false,
     "title": ""
    }
   },
   "outputs": [],
   "source": [
    "spark = (SparkSession.builder.appName('SalesDataPrep').getOrCreate())"
   ]
  },
  {
   "cell_type": "markdown",
   "metadata": {
    "application/vnd.databricks.v1+cell": {
     "inputWidgets": {},
     "nuid": "8444359a-daba-4219-94f5-871e56fa8925",
     "showTitle": false,
     "title": ""
    }
   },
   "source": [
    "## Read CSV Files into DataFrame"
   ]
  },
  {
   "cell_type": "code",
   "execution_count": 0,
   "metadata": {
    "application/vnd.databricks.v1+cell": {
     "inputWidgets": {},
     "nuid": "361be084-40a9-47fc-b0e8-40159ca48358",
     "showTitle": false,
     "title": ""
    }
   },
   "outputs": [],
   "source": [
    "sales_df = spark.read.option('inferSchema', True).option('header', True).csv('dbfs:/FileStore/salesdata/raw')"
   ]
  },
  {
   "cell_type": "code",
   "execution_count": 0,
   "metadata": {
    "application/vnd.databricks.v1+cell": {
     "inputWidgets": {},
     "nuid": "191c6d9c-f47f-4eaa-9deb-f83f0ee49fd8",
     "showTitle": false,
     "title": ""
    }
   },
   "outputs": [
    {
     "data": {
      "text/plain": [
       "+--------+--------------------+----------------+----------+--------------+--------------------+\n",
       "|Order ID|             Product|Quantity Ordered|Price Each|    Order Date|    Purchase Address|\n",
       "+--------+--------------------+----------------+----------+--------------+--------------------+\n",
       "|  295665|  Macbook Pro Laptop|               1|    1700.0|12/30/19 00:01|136 Church St, Ne...|\n",
       "|  295666|  LG Washing Machine|               1|     600.0|12/29/19 07:03|562 2nd St, New Y...|\n",
       "|  295667|USB-C Charging Cable|               1|     11.95|12/12/19 18:21|277 Main St, New ...|\n",
       "|  295668|    27in FHD Monitor|               1|    149.99|12/22/19 15:13|410 6th St, San F...|\n",
       "|  295669|USB-C Charging Cable|               1|     11.95|12/18/19 12:38|43 Hill St, Atlan...|\n",
       "|  295670|AA Batteries (4-p...|               1|      3.84|12/31/19 22:58|200 Jefferson St,...|\n",
       "|  295671|USB-C Charging Cable|               1|     11.95|12/16/19 15:10|928 12th St, Port...|\n",
       "|  295672|USB-C Charging Cable|               2|     11.95|12/13/19 09:29|813 Hickory St, D...|\n",
       "|  295673|Bose SoundSport H...|               1|     99.99|12/15/19 23:26|718 Wilson St, Da...|\n",
       "|  295674|AAA Batteries (4-...|               4|      2.99|12/28/19 11:51|77 7th St, Dallas...|\n",
       "+--------+--------------------+----------------+----------+--------------+--------------------+\n",
       "only showing top 10 rows\n",
       "\n"
      ]
     },
     "metadata": {
      "application/vnd.databricks.v1+output": {
       "addedWidgets": {},
       "arguments": {},
       "data": "+--------+--------------------+----------------+----------+--------------+--------------------+\n|Order ID|             Product|Quantity Ordered|Price Each|    Order Date|    Purchase Address|\n+--------+--------------------+----------------+----------+--------------+--------------------+\n|  295665|  Macbook Pro Laptop|               1|    1700.0|12/30/19 00:01|136 Church St, Ne...|\n|  295666|  LG Washing Machine|               1|     600.0|12/29/19 07:03|562 2nd St, New Y...|\n|  295667|USB-C Charging Cable|               1|     11.95|12/12/19 18:21|277 Main St, New ...|\n|  295668|    27in FHD Monitor|               1|    149.99|12/22/19 15:13|410 6th St, San F...|\n|  295669|USB-C Charging Cable|               1|     11.95|12/18/19 12:38|43 Hill St, Atlan...|\n|  295670|AA Batteries (4-p...|               1|      3.84|12/31/19 22:58|200 Jefferson St,...|\n|  295671|USB-C Charging Cable|               1|     11.95|12/16/19 15:10|928 12th St, Port...|\n|  295672|USB-C Charging Cable|               2|     11.95|12/13/19 09:29|813 Hickory St, D...|\n|  295673|Bose SoundSport H...|               1|     99.99|12/15/19 23:26|718 Wilson St, Da...|\n|  295674|AAA Batteries (4-...|               4|      2.99|12/28/19 11:51|77 7th St, Dallas...|\n+--------+--------------------+----------------+----------+--------------+--------------------+\nonly showing top 10 rows\n\n",
       "datasetInfos": [],
       "metadata": {},
       "removedWidgets": [],
       "type": "ansi"
      }
     },
     "output_type": "display_data"
    }
   ],
   "source": [
    "sales_df.show(10)"
   ]
  },
  {
   "cell_type": "code",
   "execution_count": 0,
   "metadata": {
    "application/vnd.databricks.v1+cell": {
     "inputWidgets": {},
     "nuid": "d1a47cfb-5178-4b56-9eaa-c4023592db12",
     "showTitle": false,
     "title": ""
    }
   },
   "outputs": [
    {
     "data": {
      "text/plain": [
       "root\n",
       " |-- Order ID: integer (nullable = true)\n",
       " |-- Product: string (nullable = true)\n",
       " |-- Quantity Ordered: integer (nullable = true)\n",
       " |-- Price Each: double (nullable = true)\n",
       " |-- Order Date: string (nullable = true)\n",
       " |-- Purchase Address: string (nullable = true)\n",
       "\n"
      ]
     },
     "metadata": {
      "application/vnd.databricks.v1+output": {
       "addedWidgets": {},
       "arguments": {},
       "data": "root\n |-- Order ID: integer (nullable = true)\n |-- Product: string (nullable = true)\n |-- Quantity Ordered: integer (nullable = true)\n |-- Price Each: double (nullable = true)\n |-- Order Date: string (nullable = true)\n |-- Purchase Address: string (nullable = true)\n\n",
       "datasetInfos": [],
       "metadata": {},
       "removedWidgets": [],
       "type": "ansi"
      }
     },
     "output_type": "display_data"
    }
   ],
   "source": [
    "sales_df.printSchema()"
   ]
  },
  {
   "cell_type": "markdown",
   "metadata": {},
   "source": [
    "## Creating a Database on Databricks"
   ]
  },
  {
   "cell_type": "code",
   "execution_count": 0,
   "metadata": {
    "application/vnd.databricks.v1+cell": {
     "inputWidgets": {},
     "nuid": "8e72095c-7171-479b-a91a-8b83efa7fa53",
     "showTitle": false,
     "title": ""
    }
   },
   "outputs": [
    {
     "data": {
      "text/plain": [
       "Out[7]: DataFrame[]"
      ]
     },
     "metadata": {
      "application/vnd.databricks.v1+output": {
       "addedWidgets": {},
       "arguments": {},
       "data": "Out[7]: DataFrame[]",
       "datasetInfos": [],
       "metadata": {},
       "removedWidgets": [],
       "type": "ansi"
      }
     },
     "output_type": "display_data"
    }
   ],
   "source": [
    "spark.sql('CREATE DATABASE IF NOT EXISTS sales_db')"
   ]
  },
  {
   "cell_type": "code",
   "execution_count": 0,
   "metadata": {
    "application/vnd.databricks.v1+cell": {
     "inputWidgets": {},
     "nuid": "ad302de8-5f5c-4277-b918-fe43c1753602",
     "showTitle": false,
     "title": ""
    }
   },
   "outputs": [
    {
     "data": {
      "text/plain": [
       "Out[8]: DataFrame[]"
      ]
     },
     "metadata": {
      "application/vnd.databricks.v1+output": {
       "addedWidgets": {},
       "arguments": {},
       "data": "Out[8]: DataFrame[]",
       "datasetInfos": [],
       "metadata": {},
       "removedWidgets": [],
       "type": "ansi"
      }
     },
     "output_type": "display_data"
    }
   ],
   "source": [
    "spark.sql('USE sales_db')"
   ]
  },
  {
   "cell_type": "code",
   "execution_count": null,
   "metadata": {},
   "outputs": [],
   "source": []
  },
  {
   "cell_type": "code",
   "execution_count": 0,
   "metadata": {
    "application/vnd.databricks.v1+cell": {
     "inputWidgets": {},
     "nuid": "fe07ca1f-760a-492c-b2d1-37d2d557c0ef",
     "showTitle": false,
     "title": ""
    }
   },
   "outputs": [
    {
     "data": {
      "text/plain": [
       "Out[10]: DataFrame[]"
      ]
     },
     "metadata": {
      "application/vnd.databricks.v1+output": {
       "addedWidgets": {},
       "arguments": {},
       "data": "Out[10]: DataFrame[]",
       "datasetInfos": [],
       "metadata": {},
       "removedWidgets": [],
       "type": "ansi"
      }
     },
     "output_type": "display_data"
    }
   ],
   "source": [
    "spark.sql(\"\"\"CREATE TABLE IF NOT EXISTS sales_raw (\n",
    "            OrderID STRING,\n",
    "            Product STRING,\n",
    "            QuantityOrdered STRING,\n",
    "            PriceEach STRING,\n",
    "            OrderDate STRING,\n",
    "            PurchaseAddress STRING\n",
    "            )\n",
    "          \"\"\")"
   ]
  },
  {
   "cell_type": "markdown",
   "metadata": {
    "application/vnd.databricks.v1+cell": {
     "inputWidgets": {},
     "nuid": "3020920e-2088-46ec-8b3f-2a612964b3bc",
     "showTitle": false,
     "title": ""
    }
   },
   "source": [
    "## Insert DataFrame Data to Sales Raw Table"
   ]
  },
  {
   "cell_type": "code",
   "execution_count": 0,
   "metadata": {
    "application/vnd.databricks.v1+cell": {
     "inputWidgets": {},
     "nuid": "0726c6cd-8229-47dc-ae83-0ac2e861e158",
     "showTitle": false,
     "title": ""
    }
   },
   "outputs": [],
   "source": [
    "sales_df.createOrReplaceTempView('tmp_sales_raw')"
   ]
  },
  {
   "cell_type": "code",
   "execution_count": 0,
   "metadata": {
    "application/vnd.databricks.v1+cell": {
     "inputWidgets": {},
     "nuid": "b8954aac-edc1-4dba-b7cc-a947b94db593",
     "showTitle": false,
     "title": ""
    }
   },
   "outputs": [
    {
     "data": {
      "text/plain": [
       "+--------+--------------------+----------------+----------+--------------+--------------------+\n",
       "|Order ID|             Product|Quantity Ordered|Price Each|    Order Date|    Purchase Address|\n",
       "+--------+--------------------+----------------+----------+--------------+--------------------+\n",
       "|  295665|  Macbook Pro Laptop|               1|    1700.0|12/30/19 00:01|136 Church St, Ne...|\n",
       "|  295666|  LG Washing Machine|               1|     600.0|12/29/19 07:03|562 2nd St, New Y...|\n",
       "|  295667|USB-C Charging Cable|               1|     11.95|12/12/19 18:21|277 Main St, New ...|\n",
       "|  295668|    27in FHD Monitor|               1|    149.99|12/22/19 15:13|410 6th St, San F...|\n",
       "|  295669|USB-C Charging Cable|               1|     11.95|12/18/19 12:38|43 Hill St, Atlan...|\n",
       "+--------+--------------------+----------------+----------+--------------+--------------------+\n",
       "only showing top 5 rows\n",
       "\n"
      ]
     },
     "metadata": {
      "application/vnd.databricks.v1+output": {
       "addedWidgets": {},
       "arguments": {},
       "data": "+--------+--------------------+----------------+----------+--------------+--------------------+\n|Order ID|             Product|Quantity Ordered|Price Each|    Order Date|    Purchase Address|\n+--------+--------------------+----------------+----------+--------------+--------------------+\n|  295665|  Macbook Pro Laptop|               1|    1700.0|12/30/19 00:01|136 Church St, Ne...|\n|  295666|  LG Washing Machine|               1|     600.0|12/29/19 07:03|562 2nd St, New Y...|\n|  295667|USB-C Charging Cable|               1|     11.95|12/12/19 18:21|277 Main St, New ...|\n|  295668|    27in FHD Monitor|               1|    149.99|12/22/19 15:13|410 6th St, San F...|\n|  295669|USB-C Charging Cable|               1|     11.95|12/18/19 12:38|43 Hill St, Atlan...|\n+--------+--------------------+----------------+----------+--------------+--------------------+\nonly showing top 5 rows\n\n",
       "datasetInfos": [],
       "metadata": {},
       "removedWidgets": [],
       "type": "ansi"
      }
     },
     "output_type": "display_data"
    }
   ],
   "source": [
    "spark.sql('SELECT * FROM tmp_sales_raw').show(5)"
   ]
  },
  {
   "cell_type": "code",
   "execution_count": 0,
   "metadata": {
    "application/vnd.databricks.v1+cell": {
     "inputWidgets": {},
     "nuid": "371deb08-3ef2-46bd-ba00-a1c388e0fa9f",
     "showTitle": false,
     "title": ""
    }
   },
   "outputs": [
    {
     "data": {
      "text/plain": [
       "+----------------+---------+-------+\n",
       "|        col_name|data_type|comment|\n",
       "+----------------+---------+-------+\n",
       "|        Order ID|      int|   null|\n",
       "|         Product|   string|   null|\n",
       "|Quantity Ordered|      int|   null|\n",
       "|      Price Each|   double|   null|\n",
       "|      Order Date|   string|   null|\n",
       "|Purchase Address|   string|   null|\n",
       "+----------------+---------+-------+\n",
       "\n"
      ]
     },
     "metadata": {
      "application/vnd.databricks.v1+output": {
       "addedWidgets": {},
       "arguments": {},
       "data": "+----------------+---------+-------+\n|        col_name|data_type|comment|\n+----------------+---------+-------+\n|        Order ID|      int|   null|\n|         Product|   string|   null|\n|Quantity Ordered|      int|   null|\n|      Price Each|   double|   null|\n|      Order Date|   string|   null|\n|Purchase Address|   string|   null|\n+----------------+---------+-------+\n\n",
       "datasetInfos": [],
       "metadata": {},
       "removedWidgets": [],
       "type": "ansi"
      }
     },
     "output_type": "display_data"
    }
   ],
   "source": [
    "spark.sql('DESCRIBE tmp_sales_raw').show()"
   ]
  },
  {
   "cell_type": "code",
   "execution_count": 0,
   "metadata": {
    "application/vnd.databricks.v1+cell": {
     "inputWidgets": {},
     "nuid": "e76e49c7-9589-4e7a-b5dc-dc465ab713ae",
     "showTitle": false,
     "title": ""
    }
   },
   "outputs": [
    {
     "data": {
      "text/plain": [
       "+---------------+---------+-------+\n",
       "|       col_name|data_type|comment|\n",
       "+---------------+---------+-------+\n",
       "|        OrderID|   string|       |\n",
       "|        Product|   string|       |\n",
       "|QuantityOrdered|   string|       |\n",
       "|      PriceEach|   string|       |\n",
       "|      OrderDate|   string|       |\n",
       "|PurchaseAddress|   string|       |\n",
       "|               |         |       |\n",
       "| # Partitioning|         |       |\n",
       "|Not partitioned|         |       |\n",
       "+---------------+---------+-------+\n",
       "\n"
      ]
     },
     "metadata": {
      "application/vnd.databricks.v1+output": {
       "addedWidgets": {},
       "arguments": {},
       "data": "+---------------+---------+-------+\n|       col_name|data_type|comment|\n+---------------+---------+-------+\n|        OrderID|   string|       |\n|        Product|   string|       |\n|QuantityOrdered|   string|       |\n|      PriceEach|   string|       |\n|      OrderDate|   string|       |\n|PurchaseAddress|   string|       |\n|               |         |       |\n| # Partitioning|         |       |\n|Not partitioned|         |       |\n+---------------+---------+-------+\n\n",
       "datasetInfos": [],
       "metadata": {},
       "removedWidgets": [],
       "type": "ansi"
      }
     },
     "output_type": "display_data"
    }
   ],
   "source": [
    "spark.sql('DESCRIBE sales_raw').show()"
   ]
  },
  {
   "cell_type": "code",
   "execution_count": 0,
   "metadata": {
    "application/vnd.databricks.v1+cell": {
     "inputWidgets": {},
     "nuid": "1474fc1d-aca0-4e9a-8433-c7bc964fa2f0",
     "showTitle": false,
     "title": ""
    }
   },
   "outputs": [
    {
     "data": {
      "text/plain": [
       "Out[20]: DataFrame[num_affected_rows: bigint, num_inserted_rows: bigint]"
      ]
     },
     "metadata": {
      "application/vnd.databricks.v1+output": {
       "addedWidgets": {},
       "arguments": {},
       "data": "Out[20]: DataFrame[num_affected_rows: bigint, num_inserted_rows: bigint]",
       "datasetInfos": [],
       "metadata": {},
       "removedWidgets": [],
       "type": "ansi"
      }
     },
     "output_type": "display_data"
    }
   ],
   "source": [
    "spark.sql(\"\"\"INSERT OVERWRITE sales_raw\n",
    "             SELECT * FROM tmp_sales_raw\n",
    "          \"\"\")"
   ]
  },
  {
   "cell_type": "code",
   "execution_count": 0,
   "metadata": {
    "application/vnd.databricks.v1+cell": {
     "inputWidgets": {},
     "nuid": "998a99a6-0c17-4916-852d-92ba51e78db6",
     "showTitle": false,
     "title": ""
    }
   },
   "outputs": [
    {
     "data": {
      "text/plain": [
       "+-------+--------------------+---------------+---------+--------------+--------------------+\n",
       "|OrderID|             Product|QuantityOrdered|PriceEach|     OrderDate|     PurchaseAddress|\n",
       "+-------+--------------------+---------------+---------+--------------+--------------------+\n",
       "| 295665|  Macbook Pro Laptop|              1|   1700.0|12/30/19 00:01|136 Church St, Ne...|\n",
       "| 295666|  LG Washing Machine|              1|    600.0|12/29/19 07:03|562 2nd St, New Y...|\n",
       "| 295667|USB-C Charging Cable|              1|    11.95|12/12/19 18:21|277 Main St, New ...|\n",
       "| 295668|    27in FHD Monitor|              1|   149.99|12/22/19 15:13|410 6th St, San F...|\n",
       "| 295669|USB-C Charging Cable|              1|    11.95|12/18/19 12:38|43 Hill St, Atlan...|\n",
       "| 295670|AA Batteries (4-p...|              1|     3.84|12/31/19 22:58|200 Jefferson St,...|\n",
       "| 295671|USB-C Charging Cable|              1|    11.95|12/16/19 15:10|928 12th St, Port...|\n",
       "| 295672|USB-C Charging Cable|              2|    11.95|12/13/19 09:29|813 Hickory St, D...|\n",
       "| 295673|Bose SoundSport H...|              1|    99.99|12/15/19 23:26|718 Wilson St, Da...|\n",
       "| 295674|AAA Batteries (4-...|              4|     2.99|12/28/19 11:51|77 7th St, Dallas...|\n",
       "| 295675|USB-C Charging Cable|              2|    11.95|12/13/19 13:52|594 1st St, San F...|\n",
       "| 295676|     ThinkPad Laptop|              1|   999.99|12/28/19 17:19|410 Lincoln St, L...|\n",
       "| 295677|AA Batteries (4-p...|              2|     3.84|12/20/19 19:19|866 Pine St, Bost...|\n",
       "| 295678|AAA Batteries (4-...|              2|     2.99|12/06/19 09:38|187 Lincoln St, D...|\n",
       "| 295679|USB-C Charging Cable|              1|    11.95|12/25/19 09:39|902 2nd St, Dalla...|\n",
       "| 295680|Lightning Chargin...|              1|    14.95|12/01/19 14:30|338 Main St, Aust...|\n",
       "| 295681|        Google Phone|              1|    600.0|12/25/19 12:37|79 Elm St, Boston...|\n",
       "| 295681|USB-C Charging Cable|              1|    11.95|12/25/19 12:37|79 Elm St, Boston...|\n",
       "| 295681|Bose SoundSport H...|              1|    99.99|12/25/19 12:37|79 Elm St, Boston...|\n",
       "| 295681|    Wired Headphones|              1|    11.99|12/25/19 12:37|79 Elm St, Boston...|\n",
       "+-------+--------------------+---------------+---------+--------------+--------------------+\n",
       "only showing top 20 rows\n",
       "\n"
      ]
     },
     "metadata": {
      "application/vnd.databricks.v1+output": {
       "addedWidgets": {},
       "arguments": {},
       "data": "+-------+--------------------+---------------+---------+--------------+--------------------+\n|OrderID|             Product|QuantityOrdered|PriceEach|     OrderDate|     PurchaseAddress|\n+-------+--------------------+---------------+---------+--------------+--------------------+\n| 295665|  Macbook Pro Laptop|              1|   1700.0|12/30/19 00:01|136 Church St, Ne...|\n| 295666|  LG Washing Machine|              1|    600.0|12/29/19 07:03|562 2nd St, New Y...|\n| 295667|USB-C Charging Cable|              1|    11.95|12/12/19 18:21|277 Main St, New ...|\n| 295668|    27in FHD Monitor|              1|   149.99|12/22/19 15:13|410 6th St, San F...|\n| 295669|USB-C Charging Cable|              1|    11.95|12/18/19 12:38|43 Hill St, Atlan...|\n| 295670|AA Batteries (4-p...|              1|     3.84|12/31/19 22:58|200 Jefferson St,...|\n| 295671|USB-C Charging Cable|              1|    11.95|12/16/19 15:10|928 12th St, Port...|\n| 295672|USB-C Charging Cable|              2|    11.95|12/13/19 09:29|813 Hickory St, D...|\n| 295673|Bose SoundSport H...|              1|    99.99|12/15/19 23:26|718 Wilson St, Da...|\n| 295674|AAA Batteries (4-...|              4|     2.99|12/28/19 11:51|77 7th St, Dallas...|\n| 295675|USB-C Charging Cable|              2|    11.95|12/13/19 13:52|594 1st St, San F...|\n| 295676|     ThinkPad Laptop|              1|   999.99|12/28/19 17:19|410 Lincoln St, L...|\n| 295677|AA Batteries (4-p...|              2|     3.84|12/20/19 19:19|866 Pine St, Bost...|\n| 295678|AAA Batteries (4-...|              2|     2.99|12/06/19 09:38|187 Lincoln St, D...|\n| 295679|USB-C Charging Cable|              1|    11.95|12/25/19 09:39|902 2nd St, Dalla...|\n| 295680|Lightning Chargin...|              1|    14.95|12/01/19 14:30|338 Main St, Aust...|\n| 295681|        Google Phone|              1|    600.0|12/25/19 12:37|79 Elm St, Boston...|\n| 295681|USB-C Charging Cable|              1|    11.95|12/25/19 12:37|79 Elm St, Boston...|\n| 295681|Bose SoundSport H...|              1|    99.99|12/25/19 12:37|79 Elm St, Boston...|\n| 295681|    Wired Headphones|              1|    11.99|12/25/19 12:37|79 Elm St, Boston...|\n+-------+--------------------+---------------+---------+--------------+--------------------+\nonly showing top 20 rows\n\n",
       "datasetInfos": [],
       "metadata": {},
       "removedWidgets": [],
       "type": "ansi"
      }
     },
     "output_type": "display_data"
    }
   ],
   "source": [
    "spark.sql('SELECT * FROM sales_raw').show()"
   ]
  },
  {
   "cell_type": "code",
   "execution_count": 0,
   "metadata": {
    "application/vnd.databricks.v1+cell": {
     "inputWidgets": {},
     "nuid": "d7cbfd23-4924-4f5a-a359-39c1509d0f39",
     "showTitle": false,
     "title": ""
    }
   },
   "outputs": [],
   "source": [
    "tmp_sales_df = spark.sql(\"\"\"\n",
    "                        SELECT \n",
    "                        cast(OrderID as int) as OrderID,\n",
    "                        Product,\n",
    "                        cast(QuantityOrdered as int) as Quantity,\n",
    "                        cast(PriceEach as float) as PriceEach,\n",
    "                        to_timestamp(OrderDate, 'MM/dd/yy HH:mm') as OrderDate,\n",
    "                        PurchaseAddress,\n",
    "                        split(PurchaseAddress, ',')[1] as City,\n",
    "                        substr(split(PurchaseAddress, ',')[2], 1, 3) as State,\n",
    "                        year(to_timestamp(OrderDate, 'MM/dd/yy HH:mm')) as ReportYear,\n",
    "                        month(to_timestamp(OrderDate, 'MM/dd/yy HH:mm')) as Month\n",
    "                        FROM sales_raw\n",
    "                        WHERE OrderID is not null\n",
    "                        \"\"\")"
   ]
  },
  {
   "cell_type": "code",
   "execution_count": 0,
   "metadata": {
    "application/vnd.databricks.v1+cell": {
     "inputWidgets": {},
     "nuid": "d8f96175-a6d0-4531-b086-a627a7872e1f",
     "showTitle": false,
     "title": ""
    }
   },
   "outputs": [],
   "source": [
    "tmp_sales_df.createOrReplaceTempView('tmp_sales')"
   ]
  },
  {
   "cell_type": "code",
   "execution_count": 0,
   "metadata": {
    "application/vnd.databricks.v1+cell": {
     "inputWidgets": {},
     "nuid": "31e8e8bd-b1cc-4a52-8e99-74e4c7d2c66e",
     "showTitle": false,
     "title": ""
    }
   },
   "outputs": [
    {
     "data": {
      "text/plain": [
       "+---------------+---------+-------+\n",
       "|       col_name|data_type|comment|\n",
       "+---------------+---------+-------+\n",
       "|        OrderID|      int|   null|\n",
       "|        Product|   string|   null|\n",
       "|       Quantity|      int|   null|\n",
       "|      PriceEach|    float|   null|\n",
       "|      OrderDate|timestamp|   null|\n",
       "|PurchaseAddress|   string|   null|\n",
       "|           City|   string|   null|\n",
       "|          State|   string|   null|\n",
       "|     ReportYear|      int|   null|\n",
       "|          Month|      int|   null|\n",
       "+---------------+---------+-------+\n",
       "\n"
      ]
     },
     "metadata": {
      "application/vnd.databricks.v1+output": {
       "addedWidgets": {},
       "arguments": {},
       "data": "+---------------+---------+-------+\n|       col_name|data_type|comment|\n+---------------+---------+-------+\n|        OrderID|      int|   null|\n|        Product|   string|   null|\n|       Quantity|      int|   null|\n|      PriceEach|    float|   null|\n|      OrderDate|timestamp|   null|\n|PurchaseAddress|   string|   null|\n|           City|   string|   null|\n|          State|   string|   null|\n|     ReportYear|      int|   null|\n|          Month|      int|   null|\n+---------------+---------+-------+\n\n",
       "datasetInfos": [],
       "metadata": {},
       "removedWidgets": [],
       "type": "ansi"
      }
     },
     "output_type": "display_data"
    }
   ],
   "source": [
    "spark.sql('describe tmp_sales').show()"
   ]
  },
  {
   "cell_type": "code",
   "execution_count": 0,
   "metadata": {
    "application/vnd.databricks.v1+cell": {
     "inputWidgets": {},
     "nuid": "43d6092e-67e4-4a22-bf02-e9df79996c1c",
     "showTitle": false,
     "title": ""
    }
   },
   "outputs": [
    {
     "data": {
      "text/plain": [
       "Out[71]: DataFrame[]"
      ]
     },
     "metadata": {
      "application/vnd.databricks.v1+output": {
       "addedWidgets": {},
       "arguments": {},
       "data": "Out[71]: DataFrame[]",
       "datasetInfos": [],
       "metadata": {},
       "removedWidgets": [],
       "type": "ansi"
      }
     },
     "output_type": "display_data"
    }
   ],
   "source": [
    "spark.sql(\"\"\"\n",
    "CREATE TABLE IF NOT EXISTS sales (\n",
    "  OrderID INT,\n",
    "  Product STRING,\n",
    "  Quantity INT,\n",
    "  PriceEach FLOAT,\n",
    "  OrderDate TIMESTAMP,\n",
    "  StoreAddress STRING,\n",
    "  City STRING,\n",
    "  State STRING,\n",
    "  ReportYear INT,\n",
    "  Month INT\n",
    ")\n",
    "USING PARQUET\n",
    "PARTITIONED BY (ReportYear, Month)\n",
    "OPTIONS('compression' = 'snappy')\n",
    "LOCATION 'dbfs:/FileStore/salesdata/published'\n",
    "\"\"\")"
   ]
  },
  {
   "cell_type": "code",
   "execution_count": 0,
   "metadata": {
    "application/vnd.databricks.v1+cell": {
     "inputWidgets": {},
     "nuid": "7a416a4b-cc70-449c-8a68-21564c17dcee",
     "showTitle": false,
     "title": ""
    }
   },
   "outputs": [
    {
     "data": {
      "text/plain": [
       "Out[72]: DataFrame[]"
      ]
     },
     "metadata": {
      "application/vnd.databricks.v1+output": {
       "addedWidgets": {},
       "arguments": {},
       "data": "Out[72]: DataFrame[]",
       "datasetInfos": [],
       "metadata": {},
       "removedWidgets": [],
       "type": "ansi"
      }
     },
     "output_type": "display_data"
    }
   ],
   "source": [
    "spark.sql(\"\"\"\n",
    "INSERT INTO sales\n",
    "SELECT\n",
    "  OrderID,\n",
    "  Product,\n",
    "  Quantity,\n",
    "  PriceEach,\n",
    "  null,\n",
    "  PurchaseAddress,\n",
    "  City,\n",
    "  State,\n",
    "  ReportYear,\n",
    "  Month\n",
    "FROM tmp_sales\n",
    "\"\"\")"
   ]
  },
  {
   "cell_type": "code",
   "execution_count": 0,
   "metadata": {
    "application/vnd.databricks.v1+cell": {
     "inputWidgets": {},
     "nuid": "952740b6-d10d-41be-9fcc-970c678f63d4",
     "showTitle": false,
     "title": ""
    }
   },
   "outputs": [
    {
     "data": {
      "text/html": [
       "<style scoped>\n",
       "  .ansiout {\n",
       "    display: block;\n",
       "    unicode-bidi: embed;\n",
       "    white-space: pre-wrap;\n",
       "    word-wrap: break-word;\n",
       "    word-break: break-all;\n",
       "    font-family: \"Source Code Pro\", \"Menlo\", monospace;;\n",
       "    font-size: 13px;\n",
       "    color: #555;\n",
       "    margin-left: 4px;\n",
       "    line-height: 19px;\n",
       "  }\n",
       "</style>"
      ]
     },
     "metadata": {
      "application/vnd.databricks.v1+output": {
       "arguments": {},
       "data": "",
       "errorSummary": "",
       "errorTraceType": null,
       "metadata": {},
       "type": "ipynbError"
      }
     },
     "output_type": "display_data"
    }
   ],
   "source": []
  }
 ],
 "metadata": {
  "application/vnd.databricks.v1+notebook": {
   "dashboards": [],
   "language": "python",
   "notebookMetadata": {
    "pythonIndentUnit": 2
   },
   "notebookName": "SalesDataPrep",
   "notebookOrigID": 4354981209020650,
   "widgets": {}
  },
  "kernelspec": {
   "display_name": "Python 3 (ipykernel)",
   "language": "python",
   "name": "python3"
  },
  "language_info": {
   "codemirror_mode": {
    "name": "ipython",
    "version": 3
   },
   "file_extension": ".py",
   "mimetype": "text/x-python",
   "name": "python",
   "nbconvert_exporter": "python",
   "pygments_lexer": "ipython3",
   "version": "3.9.7"
  }
 },
 "nbformat": 4,
 "nbformat_minor": 1
}
