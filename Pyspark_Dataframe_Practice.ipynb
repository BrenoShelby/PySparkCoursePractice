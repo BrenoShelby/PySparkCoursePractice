{
 "cells": [
  {
   "cell_type": "code",
   "execution_count": 1,
   "id": "164c5c0b-73bf-49f0-a72a-5bf23f631155",
   "metadata": {},
   "outputs": [],
   "source": [
    "from pyspark.sql import SparkSession\n",
    "from pyspark.sql.types import StructType, StructField, StringType, IntegerType"
   ]
  },
  {
   "cell_type": "code",
   "execution_count": 2,
   "id": "75732a96-afc8-48ec-9cf7-bf5e4dfa7075",
   "metadata": {},
   "outputs": [],
   "source": [
    "spark = (SparkSession.builder.appName('PySparkDfPractice').getOrCreate())"
   ]
  },
  {
   "cell_type": "code",
   "execution_count": 3,
   "id": "dae6302f-686a-4f62-b676-b6b48ad28ad8",
   "metadata": {},
   "outputs": [],
   "source": [
    "data = [(\"James\",\"\",\"Smith\",\"36636\",\"M\",3000),\n",
    "    (\"Michael\",\"Rose\",\"\",\"40288\",\"M\",4000),\n",
    "    (\"Robert\",\"\",\"Williams\",\"42114\",\"M\",4000),\n",
    "    (\"Maria\",\"Anne\",\"Jones\",\"39192\",\"F\",4000),\n",
    "    (\"Jen\",\"Mary\",\"Brown\",\"\",\"F\",-1)\n",
    "  ]"
   ]
  },
  {
   "cell_type": "code",
   "execution_count": 4,
   "id": "76bd8364-1519-4084-bb28-91711e0a533d",
   "metadata": {},
   "outputs": [],
   "source": [
    "schema = StructType([\n",
    "    StructField(\"firstName\", StringType(), True),\n",
    "    StructField(\"middleName\", StringType(), True),\n",
    "    StructField(\"lastName\", StringType(), True),\n",
    "    StructField(\"id\", StringType(), True),\n",
    "    StructField(\"gender\", StringType(), True),\n",
    "    StructField(\"salary\", IntegerType(), True),\n",
    "])"
   ]
  },
  {
   "cell_type": "code",
   "execution_count": 5,
   "id": "21700baf-0c8c-4891-8d57-a0a9ee8ba602",
   "metadata": {},
   "outputs": [
    {
     "name": "stdout",
     "output_type": "stream",
     "text": [
      "root\n",
      " |-- firstName: string (nullable = true)\n",
      " |-- middleName: string (nullable = true)\n",
      " |-- lastName: string (nullable = true)\n",
      " |-- id: string (nullable = true)\n",
      " |-- gender: string (nullable = true)\n",
      " |-- salary: integer (nullable = true)\n",
      "\n"
     ]
    }
   ],
   "source": [
    "df = spark.createDataFrame(data=data, schema=schema)\n",
    "df.printSchema()"
   ]
  },
  {
   "cell_type": "code",
   "execution_count": 6,
   "id": "64b428ca-eb6a-4ece-b20d-e31bffa5e840",
   "metadata": {},
   "outputs": [
    {
     "name": "stdout",
     "output_type": "stream",
     "text": [
      "+---------+----------+--------+-----+------+------+\n",
      "|firstName|middleName|lastName|id   |gender|salary|\n",
      "+---------+----------+--------+-----+------+------+\n",
      "|James    |          |Smith   |36636|M     |3000  |\n",
      "|Michael  |Rose      |        |40288|M     |4000  |\n",
      "|Robert   |          |Williams|42114|M     |4000  |\n",
      "|Maria    |Anne      |Jones   |39192|F     |4000  |\n",
      "|Jen      |Mary      |Brown   |     |F     |-1    |\n",
      "+---------+----------+--------+-----+------+------+\n",
      "\n"
     ]
    }
   ],
   "source": [
    "df.show(truncate=False)"
   ]
  },
  {
   "cell_type": "code",
   "execution_count": 7,
   "id": "ba639b6e-ff23-418d-99e8-b88d6f4a6923",
   "metadata": {},
   "outputs": [],
   "source": [
    "file_path = './data/fire-incidents/fire-incidents.csv'"
   ]
  },
  {
   "cell_type": "code",
   "execution_count": 8,
   "id": "02695dac-af61-4ba3-b380-2b2dce1c7f5b",
   "metadata": {},
   "outputs": [],
   "source": [
    "fire_df = (\n",
    "    spark.read.format('csv')\n",
    "    .option('header', True)\n",
    "    .option('inferSchema', True)\n",
    "    .load(file_path)\n",
    ")"
   ]
  },
  {
   "cell_type": "code",
   "execution_count": 9,
   "id": "9f4a6229-cbd6-4f1b-a9e5-11104c28082b",
   "metadata": {},
   "outputs": [
    {
     "name": "stdout",
     "output_type": "stream",
     "text": [
      "+--------------+-------------------+-------------+\n",
      "|IncidentNumber|       IncidentDate|         City|\n",
      "+--------------+-------------------+-------------+\n",
      "|      20104668|2020-09-11 00:00:00|San Francisco|\n",
      "|      20104708|2020-09-11 00:00:00|San Francisco|\n",
      "|      20104648|2020-09-10 00:00:00|San Francisco|\n",
      "|      20104598|2020-09-10 00:00:00|San Francisco|\n",
      "|      20104575|2020-09-10 00:00:00|San Francisco|\n",
      "|      20104477|2020-09-10 00:00:00|San Francisco|\n",
      "|      20104443|2020-09-10 00:00:00|San Francisco|\n",
      "|      20104605|2020-09-10 00:00:00|San Francisco|\n",
      "|      20104474|2020-09-10 00:00:00|San Francisco|\n",
      "|      20104652|2020-09-10 00:00:00|San Francisco|\n",
      "+--------------+-------------------+-------------+\n",
      "only showing top 10 rows\n",
      "\n"
     ]
    }
   ],
   "source": [
    "fire_df.select('IncidentNumber', 'IncidentDate', 'City').show(10)"
   ]
  },
  {
   "cell_type": "code",
   "execution_count": 10,
   "id": "5a6fba2f-47cf-408f-9dab-0b6689de88dd",
   "metadata": {},
   "outputs": [
    {
     "name": "stdout",
     "output_type": "stream",
     "text": [
      "root\n",
      " |-- IncidentNumber: integer (nullable = true)\n",
      " |-- ExposureNumber: integer (nullable = true)\n",
      " |-- ID: integer (nullable = true)\n",
      " |-- Address: string (nullable = true)\n",
      " |-- IncidentDate: timestamp (nullable = true)\n",
      " |-- CallNumber: integer (nullable = true)\n",
      " |-- AlarmDtTm: timestamp (nullable = true)\n",
      " |-- ArrivalDtTm: timestamp (nullable = true)\n",
      " |-- CloseDtTm: timestamp (nullable = true)\n",
      " |-- City: string (nullable = true)\n",
      " |-- ZIPCode: string (nullable = true)\n",
      " |-- Battalion: string (nullable = true)\n",
      " |-- StationArea: string (nullable = true)\n",
      " |-- Box: string (nullable = true)\n",
      " |-- SuppressionUnits: integer (nullable = true)\n",
      " |-- SuppressionPersonnel: integer (nullable = true)\n",
      " |-- EMSUnits: integer (nullable = true)\n",
      " |-- EMSPersonnel: integer (nullable = true)\n",
      " |-- OtherUnits: integer (nullable = true)\n",
      " |-- OtherPersonnel: integer (nullable = true)\n",
      " |-- FirstUnitOnScene: string (nullable = true)\n",
      " |-- EstimatedPropertyLoss: integer (nullable = true)\n",
      " |-- EstimatedContentsLoss: double (nullable = true)\n",
      " |-- FireFatalities: integer (nullable = true)\n",
      " |-- FireInjuries: integer (nullable = true)\n",
      " |-- CivilianFatalities: integer (nullable = true)\n",
      " |-- CivilianInjuries: integer (nullable = true)\n",
      " |-- NumberofAlarms: integer (nullable = true)\n",
      " |-- PrimarySituation: string (nullable = true)\n",
      " |-- MutualAid: string (nullable = true)\n",
      " |-- ActionTakenPrimary: string (nullable = true)\n",
      " |-- ActionTakenSecondary: string (nullable = true)\n",
      " |-- ActionTakenOther: string (nullable = true)\n",
      " |-- DetectorAlertedOccupants: string (nullable = true)\n",
      " |-- PropertyUse: string (nullable = true)\n",
      " |-- AreaofFireOrigin: string (nullable = true)\n",
      " |-- IgnitionCause: string (nullable = true)\n",
      " |-- IgnitionFactorPrimary: string (nullable = true)\n",
      " |-- IgnitionFactorSecondary: string (nullable = true)\n",
      " |-- HeatSource: string (nullable = true)\n",
      " |-- ItemFirstIgnited: string (nullable = true)\n",
      " |-- HumanFactorsAssociatedwithIgnition: string (nullable = true)\n",
      " |-- StructureType: string (nullable = true)\n",
      " |-- StructureStatus: string (nullable = true)\n",
      " |-- FloorofFireOrigin: integer (nullable = true)\n",
      " |-- FireSpread: string (nullable = true)\n",
      " |-- NoFlameSpead: string (nullable = true)\n",
      " |-- Numberoffloorswithminimumdamage: integer (nullable = true)\n",
      " |-- Numberoffloorswithsignificantdamage: integer (nullable = true)\n",
      " |-- Numberoffloorswithheavydamage: integer (nullable = true)\n",
      " |-- Numberoffloorswithextremedamage: integer (nullable = true)\n",
      " |-- DetectorsPresent: string (nullable = true)\n",
      " |-- DetectorType: string (nullable = true)\n",
      " |-- DetectorOperation: string (nullable = true)\n",
      " |-- DetectorEffectiveness: string (nullable = true)\n",
      " |-- DetectorFailureReason: string (nullable = true)\n",
      " |-- AutomaticExtinguishingSystemPresent: string (nullable = true)\n",
      " |-- AutomaticExtinguishingSytemType: string (nullable = true)\n",
      " |-- AutomaticExtinguishingSytemPerfomance: string (nullable = true)\n",
      " |-- AutomaticExtinguishingSytemFailureReason: string (nullable = true)\n",
      " |-- NumberofSprinklerHeadsOperating: integer (nullable = true)\n",
      " |-- SupervisorDistrict: integer (nullable = true)\n",
      " |-- AnalysisNeighborhood: string (nullable = true)\n",
      " |-- point: string (nullable = true)\n",
      " |-- NeighborhoodsOld: integer (nullable = true)\n",
      " |-- ZipCodes: integer (nullable = true)\n",
      " |-- FirePreventionDistricts: integer (nullable = true)\n",
      " |-- PoliceDistricts: integer (nullable = true)\n",
      " |-- SupervisorDistricts: integer (nullable = true)\n",
      " |-- CivicCenterHarmReductionProjectBoundary: integer (nullable = true)\n",
      " |-- 2017FixItZones: integer (nullable = true)\n",
      " |-- HSOCZones: integer (nullable = true)\n",
      " |-- CentralMarketTenderloinBoundary: integer (nullable = true)\n",
      " |-- CentralMarketTenderloinBoundaryPolygonUpdated: integer (nullable = true)\n",
      " |-- HSOCZonesasof20180605: integer (nullable = true)\n",
      " |-- Neighborhoods: integer (nullable = true)\n",
      " |-- SFFindNeighborhoods: integer (nullable = true)\n",
      " |-- CurrentPoliceDistricts: integer (nullable = true)\n",
      " |-- CurrentSupervisorDistricts: integer (nullable = true)\n",
      " |-- AnalysisNeighborhoods: integer (nullable = true)\n",
      "\n"
     ]
    }
   ],
   "source": [
    "fire_df.printSchema()"
   ]
  },
  {
   "cell_type": "code",
   "execution_count": 11,
   "id": "da7d9cc9-f55f-437a-a3b7-4cdf3588dca5",
   "metadata": {},
   "outputs": [
    {
     "data": {
      "text/plain": [
       "['IncidentNumber',\n",
       " 'ExposureNumber',\n",
       " 'ID',\n",
       " 'Address',\n",
       " 'IncidentDate',\n",
       " 'CallNumber',\n",
       " 'AlarmDtTm',\n",
       " 'ArrivalDtTm',\n",
       " 'CloseDtTm',\n",
       " 'City',\n",
       " 'ZIPCode',\n",
       " 'Battalion',\n",
       " 'StationArea',\n",
       " 'Box',\n",
       " 'SuppressionUnits',\n",
       " 'SuppressionPersonnel',\n",
       " 'EMSUnits',\n",
       " 'EMSPersonnel',\n",
       " 'OtherUnits',\n",
       " 'OtherPersonnel',\n",
       " 'FirstUnitOnScene',\n",
       " 'EstimatedPropertyLoss',\n",
       " 'EstimatedContentsLoss',\n",
       " 'FireFatalities',\n",
       " 'FireInjuries',\n",
       " 'CivilianFatalities',\n",
       " 'CivilianInjuries',\n",
       " 'NumberofAlarms',\n",
       " 'PrimarySituation',\n",
       " 'MutualAid',\n",
       " 'ActionTakenPrimary',\n",
       " 'ActionTakenSecondary',\n",
       " 'ActionTakenOther',\n",
       " 'DetectorAlertedOccupants',\n",
       " 'PropertyUse',\n",
       " 'AreaofFireOrigin',\n",
       " 'IgnitionCause',\n",
       " 'IgnitionFactorPrimary',\n",
       " 'IgnitionFactorSecondary',\n",
       " 'HeatSource',\n",
       " 'ItemFirstIgnited',\n",
       " 'HumanFactorsAssociatedwithIgnition',\n",
       " 'StructureType',\n",
       " 'StructureStatus',\n",
       " 'FloorofFireOrigin',\n",
       " 'FireSpread',\n",
       " 'NoFlameSpead',\n",
       " 'Numberoffloorswithminimumdamage',\n",
       " 'Numberoffloorswithsignificantdamage',\n",
       " 'Numberoffloorswithheavydamage',\n",
       " 'Numberoffloorswithextremedamage',\n",
       " 'DetectorsPresent',\n",
       " 'DetectorType',\n",
       " 'DetectorOperation',\n",
       " 'DetectorEffectiveness',\n",
       " 'DetectorFailureReason',\n",
       " 'AutomaticExtinguishingSystemPresent',\n",
       " 'AutomaticExtinguishingSytemType',\n",
       " 'AutomaticExtinguishingSytemPerfomance',\n",
       " 'AutomaticExtinguishingSytemFailureReason',\n",
       " 'NumberofSprinklerHeadsOperating',\n",
       " 'SupervisorDistrict',\n",
       " 'AnalysisNeighborhood',\n",
       " 'point',\n",
       " 'NeighborhoodsOld',\n",
       " 'ZipCodes',\n",
       " 'FirePreventionDistricts',\n",
       " 'PoliceDistricts',\n",
       " 'SupervisorDistricts',\n",
       " 'CivicCenterHarmReductionProjectBoundary',\n",
       " '2017FixItZones',\n",
       " 'HSOCZones',\n",
       " 'CentralMarketTenderloinBoundary',\n",
       " 'CentralMarketTenderloinBoundaryPolygonUpdated',\n",
       " 'HSOCZonesasof20180605',\n",
       " 'Neighborhoods',\n",
       " 'SFFindNeighborhoods',\n",
       " 'CurrentPoliceDistricts',\n",
       " 'CurrentSupervisorDistricts',\n",
       " 'AnalysisNeighborhoods']"
      ]
     },
     "execution_count": 11,
     "metadata": {},
     "output_type": "execute_result"
    }
   ],
   "source": [
    "fire_df.columns"
   ]
  },
  {
   "cell_type": "code",
   "execution_count": 12,
   "id": "e4842edb-8816-4b09-8e09-98fc3ff78a86",
   "metadata": {},
   "outputs": [],
   "source": [
    "output_path = './data/output/fireincidents'\n",
    "fire_df.write.format('parquet').mode('overwrite').save(output_path)"
   ]
  },
  {
   "cell_type": "markdown",
   "id": "b8ac4957-2934-479c-b533-31835100a4f0",
   "metadata": {},
   "source": [
    "# Working with Structured Operations"
   ]
  },
  {
   "cell_type": "markdown",
   "id": "291af5a6-d0ea-4f37-a67f-5bfe0bc16540",
   "metadata": {},
   "source": [
    "## Reading a JSON file"
   ]
  },
  {
   "cell_type": "code",
   "execution_count": 13,
   "id": "eaa8439b-a692-48f6-896f-30e827c66184",
   "metadata": {},
   "outputs": [],
   "source": [
    "from pyspark.sql.types import ArrayType, FloatType, DateType, BooleanType"
   ]
  },
  {
   "cell_type": "code",
   "execution_count": 14,
   "id": "97d1a6e7-35a6-45c3-8dbe-e30ef8eee4e6",
   "metadata": {},
   "outputs": [],
   "source": [
    "persons_schema = StructType([\n",
    "    StructField('id', IntegerType(), True),\n",
    "    StructField('first_name', StringType(), True),\n",
    "    StructField('last_name', StringType(), True),\n",
    "    StructField('fav_movies', ArrayType(StringType()), True),\n",
    "    StructField('salary', FloatType(), True),\n",
    "    StructField('image_url', StringType(), True),\n",
    "    StructField('date_of_birth', DateType(), True),\n",
    "    StructField('active', BooleanType(), True),\n",
    "])"
   ]
  },
  {
   "cell_type": "code",
   "execution_count": 15,
   "id": "71485eb2-c2b1-49cb-a30b-93dc4ae7e165",
   "metadata": {},
   "outputs": [],
   "source": [
    "json_file_path = './data/persons.json'\n",
    "persons_df = (\n",
    "    spark.read.json(json_file_path, persons_schema, multiLine='True')\n",
    ")"
   ]
  },
  {
   "cell_type": "code",
   "execution_count": 16,
   "id": "78c5f7b9-edd7-477f-b613-a8b84777813f",
   "metadata": {},
   "outputs": [
    {
     "name": "stdout",
     "output_type": "stream",
     "text": [
      "root\n",
      " |-- id: integer (nullable = true)\n",
      " |-- first_name: string (nullable = true)\n",
      " |-- last_name: string (nullable = true)\n",
      " |-- fav_movies: array (nullable = true)\n",
      " |    |-- element: string (containsNull = true)\n",
      " |-- salary: float (nullable = true)\n",
      " |-- image_url: string (nullable = true)\n",
      " |-- date_of_birth: date (nullable = true)\n",
      " |-- active: boolean (nullable = true)\n",
      "\n"
     ]
    }
   ],
   "source": [
    "persons_df.printSchema()"
   ]
  },
  {
   "cell_type": "code",
   "execution_count": 17,
   "id": "df1518e3-ca88-41b8-b4ad-dc190d7c64d1",
   "metadata": {},
   "outputs": [
    {
     "name": "stdout",
     "output_type": "stream",
     "text": [
      "+---+----------+---------+----------+-------+----------+-------------+------+\n",
      "| id|first_name|last_name|fav_movies| salary| image_url|date_of_birth|active|\n",
      "+---+----------+---------+----------+-------+----------+-------------+------+\n",
      "|  1|     Drucy|    Poppy|[I gior...|1463.36|http://...|   1991-02-16|  true|\n",
      "|  2|   Emelyne|    Blaza|[Musket...|3006.04|http://...|   1991-11-02| false|\n",
      "|  3|       Max|   Rettie|[The Fo...|1422.88|http://...|   1990-03-03| false|\n",
      "|  4|    Ilario|     Kean|[Up Clo...|3561.36|http://...|   1987-06-09|  true|\n",
      "|  5|     Toddy|   Drexel|[Walk i...|4934.87|http://...|   1992-10-28|  true|\n",
      "|  6|    Oswald| Petrolli|[Wing a...|1153.23|http://...|   1986-09-02| false|\n",
      "|  7|    Adrian|   Clarey|[Walkin...|1044.73|http://...|   1971-08-24| false|\n",
      "|  8|  Dominica|  Goodnow|[Hearts...|1147.76|http://...|   1973-08-27| false|\n",
      "|  9|     Emory|  Slocomb|[Snake ...|1082.11|http://...|   1974-06-08|  true|\n",
      "| 10|  Jeremias|     Bode|[Farewe...|3472.63|http://...|   1997-08-02|  true|\n",
      "+---+----------+---------+----------+-------+----------+-------------+------+\n",
      "only showing top 10 rows\n",
      "\n"
     ]
    }
   ],
   "source": [
    "persons_df.show(10, truncate=10)"
   ]
  },
  {
   "cell_type": "markdown",
   "id": "ab949e5a-f018-47f1-b2bf-e6b9a9870017",
   "metadata": {},
   "source": [
    "# Columns and Expressions"
   ]
  },
  {
   "cell_type": "code",
   "execution_count": 18,
   "id": "cd08137f-9146-4006-9f5d-5bc028f1c242",
   "metadata": {},
   "outputs": [],
   "source": [
    "from pyspark.sql.functions import col, expr"
   ]
  },
  {
   "cell_type": "code",
   "execution_count": 19,
   "id": "fbbbab25-5100-4d7b-a5e4-1f404b6690b8",
   "metadata": {},
   "outputs": [
    {
     "name": "stdout",
     "output_type": "stream",
     "text": [
      "+----------+---------+-------------+\n",
      "|first_name|last_name|date_of_birth|\n",
      "+----------+---------+-------------+\n",
      "|     Drucy|    Poppy|   1991-02-16|\n",
      "|   Emelyne|    Blaza|   1991-11-02|\n",
      "|       Max|   Rettie|   1990-03-03|\n",
      "|    Ilario|     Kean|   1987-06-09|\n",
      "|     Toddy|   Drexel|   1992-10-28|\n",
      "+----------+---------+-------------+\n",
      "only showing top 5 rows\n",
      "\n"
     ]
    }
   ],
   "source": [
    "persons_df.select(col('first_name'), col('last_name'), col('date_of_birth')).show(5)"
   ]
  },
  {
   "cell_type": "code",
   "execution_count": 20,
   "id": "aa16edf5-6870-46d0-8fcf-1e4f21cca8b7",
   "metadata": {},
   "outputs": [
    {
     "name": "stdout",
     "output_type": "stream",
     "text": [
      "+----------+---------+-------------+\n",
      "|first_name|last_name|date_of_birth|\n",
      "+----------+---------+-------------+\n",
      "|     Drucy|    Poppy|   1991-02-16|\n",
      "|   Emelyne|    Blaza|   1991-11-02|\n",
      "|       Max|   Rettie|   1990-03-03|\n",
      "|    Ilario|     Kean|   1987-06-09|\n",
      "|     Toddy|   Drexel|   1992-10-28|\n",
      "+----------+---------+-------------+\n",
      "only showing top 5 rows\n",
      "\n"
     ]
    }
   ],
   "source": [
    "persons_df.select(col('first_name'), expr('last_name'), expr('date_of_birth')).show(5)"
   ]
  },
  {
   "cell_type": "code",
   "execution_count": 21,
   "id": "924dc069-860d-4cbd-8723-915937e4ed82",
   "metadata": {},
   "outputs": [],
   "source": [
    "from pyspark.sql.functions import concat_ws"
   ]
  },
  {
   "cell_type": "code",
   "execution_count": 22,
   "id": "02a4ec32-3b7b-4632-95f6-6bd1dc909cec",
   "metadata": {},
   "outputs": [
    {
     "name": "stdout",
     "output_type": "stream",
     "text": [
      "+----------------+-------+------------------+\n",
      "|       full_name| salary|   salary_increase|\n",
      "+----------------+-------+------------------+\n",
      "|     Drucy Poppy|1463.36|1609.6959838867188|\n",
      "|   Emelyne Blaza|3006.04|  3306.64404296875|\n",
      "|      Max Rettie|1422.88|1565.1680053710938|\n",
      "|     Ilario Kean|3561.36|3917.4961181640624|\n",
      "|    Toddy Drexel|4934.87|  5428.35712890625|\n",
      "| Oswald Petrolli|1153.23| 1268.552978515625|\n",
      "|   Adrian Clarey|1044.73| 1149.202978515625|\n",
      "|Dominica Goodnow|1147.76|1262.5360107421875|\n",
      "|   Emory Slocomb|1082.11|1190.3209838867188|\n",
      "|   Jeremias Bode|3472.63|  3819.89287109375|\n",
      "+----------------+-------+------------------+\n",
      "only showing top 10 rows\n",
      "\n"
     ]
    }
   ],
   "source": [
    "(\n",
    "    persons_df.\n",
    "    select(concat_ws(' ', col('first_name'), col('last_name')).alias('full_name'), \n",
    "           col('salary'),\n",
    "           expr('salary * 0.10 + salary').alias('salary_increase'))\n",
    ").show(10)"
   ]
  },
  {
   "cell_type": "markdown",
   "id": "d76ba72f-8489-4cc6-9fa7-a61985acd244",
   "metadata": {},
   "source": [
    "## Filter and where condition"
   ]
  },
  {
   "cell_type": "code",
   "execution_count": 23,
   "id": "8d37c2a7-76cc-4ff1-9494-ca7ab4fc644d",
   "metadata": {},
   "outputs": [
    {
     "name": "stdout",
     "output_type": "stream",
     "text": [
      "+---+----------+---------+--------------------+-------+--------------------+-------------+------+\n",
      "| id|first_name|last_name|          fav_movies| salary|           image_url|date_of_birth|active|\n",
      "+---+----------+---------+--------------------+-------+--------------------+-------------+------+\n",
      "|  1|     Drucy|    Poppy|  [I giorni contati]|1463.36|http://dummyimage...|   1991-02-16|  true|\n",
      "|  3|       Max|   Rettie|[The Forgotten Sp...|1422.88|http://dummyimage...|   1990-03-03| false|\n",
      "|  6|    Oswald| Petrolli|[Wing and the Thi...|1153.23|http://dummyimage...|   1986-09-02| false|\n",
      "+---+----------+---------+--------------------+-------+--------------------+-------------+------+\n",
      "only showing top 3 rows\n",
      "\n"
     ]
    }
   ],
   "source": [
    "persons_df.filter('salary <= 3000').show(3)"
   ]
  },
  {
   "cell_type": "code",
   "execution_count": 24,
   "id": "00d62434-8977-4917-8137-56f2f4c78a67",
   "metadata": {},
   "outputs": [
    {
     "name": "stdout",
     "output_type": "stream",
     "text": [
      "+---+----------+-----------+--------------------+-------+--------------------+-------------+------+\n",
      "| id|first_name|  last_name|          fav_movies| salary|           image_url|date_of_birth|active|\n",
      "+---+----------+-----------+--------------------+-------+--------------------+-------------+------+\n",
      "|  1|     Drucy|      Poppy|  [I giorni contati]|1463.36|http://dummyimage...|   1991-02-16|  true|\n",
      "|  3|       Max|     Rettie|[The Forgotten Sp...|1422.88|http://dummyimage...|   1990-03-03| false|\n",
      "|  6|    Oswald|   Petrolli|[Wing and the Thi...|1153.23|http://dummyimage...|   1986-09-02| false|\n",
      "|  7|    Adrian|     Clarey|[Walking Tall, Pa...|1044.73|http://dummyimage...|   1971-08-24| false|\n",
      "|  8|  Dominica|    Goodnow|    [Hearts Divided]|1147.76|http://dummyimage...|   1973-08-27| false|\n",
      "|  9|     Emory|    Slocomb|[Snake and Crane ...|1082.11|http://dummyimage...|   1974-06-08|  true|\n",
      "| 11|   Timothy|     Ervine|[Land of the Lost...|1147.61|http://dummyimage...|   1971-06-02| false|\n",
      "| 12|   Leanora|     Gooder|[It's All About L...|1327.02|http://dummyimage...|   1981-12-17| false|\n",
      "| 13|  Claiborn|     Denham|[McCullin, Max Pa...|2623.33|http://dummyimage...|   1996-03-07| false|\n",
      "| 15|    Feodor|Nancekivell|   [Monsoon Wedding]|2218.46|http://dummyimage...|   2000-10-07| false|\n",
      "| 16|   Margaux|   Archbold|[And Now a Word f...|1013.75|http://dummyimage...|   1988-07-29|  true|\n",
      "| 17|   Balduin|    Elstone|      [Sisters, The]|2302.26|http://dummyimage...|   1974-07-20| false|\n",
      "| 23|       Min|     Latter|[Kurt Cobain: Mon...|1909.87|http://dummyimage...|   1991-03-17| false|\n",
      "| 26|     Clive|        Lax|             [Rabid]|2126.87|http://dummyimage...|   1981-10-26|  true|\n",
      "| 28|   Frankie|  Copestick|[Computer Wore Te...|1186.68|http://dummyimage...|   1994-03-09| false|\n",
      "| 30|    Carter|      Ferre|[In a World..., B...|1737.73|http://dummyimage...|   1980-10-10| false|\n",
      "| 31|    Cynthy|      Witch|         [Armadillo]|2400.58|http://dummyimage...|   1983-10-22| false|\n",
      "| 32|      Redd|   Akenhead|[Century of the D...| 2470.9|http://dummyimage...|   2000-06-05| false|\n",
      "| 33|  Sherline|    Primett|   [Jungle Fighters]|2309.39|http://dummyimage...|   1972-07-23|  true|\n",
      "| 34|     Davis|      Pinks|          [Hounddog]|1337.14|http://dummyimage...|   1989-07-27|  true|\n",
      "+---+----------+-----------+--------------------+-------+--------------------+-------------+------+\n",
      "only showing top 20 rows\n",
      "\n"
     ]
    }
   ],
   "source": [
    "persons_df.where('salary <= 3000').show()"
   ]
  },
  {
   "cell_type": "code",
   "execution_count": 25,
   "id": "595df4fe-ca14-4266-9bf4-d14b10166f76",
   "metadata": {},
   "outputs": [
    {
     "name": "stdout",
     "output_type": "stream",
     "text": [
      "+---+----------+----------+--------------------+-------+--------------------+-------------+------+\n",
      "| id|first_name| last_name|          fav_movies| salary|           image_url|date_of_birth|active|\n",
      "+---+----------+----------+--------------------+-------+--------------------+-------------+------+\n",
      "|  1|     Drucy|     Poppy|  [I giorni contati]|1463.36|http://dummyimage...|   1991-02-16|  true|\n",
      "|  9|     Emory|   Slocomb|[Snake and Crane ...|1082.11|http://dummyimage...|   1974-06-08|  true|\n",
      "| 16|   Margaux|  Archbold|[And Now a Word f...|1013.75|http://dummyimage...|   1988-07-29|  true|\n",
      "| 26|     Clive|       Lax|             [Rabid]|2126.87|http://dummyimage...|   1981-10-26|  true|\n",
      "| 33|  Sherline|   Primett|   [Jungle Fighters]|2309.39|http://dummyimage...|   1972-07-23|  true|\n",
      "| 34|     Davis|     Pinks|          [Hounddog]|1337.14|http://dummyimage...|   1989-07-27|  true|\n",
      "| 37|    Carlen|   Sharply|[Dr. Jekyll and M...|2051.85|http://dummyimage...|   2002-06-01|  true|\n",
      "| 40|    Jordan|    Lorant|[Shockproof, Bach...|2183.91|http://dummyimage...|   1979-07-29|  true|\n",
      "| 49| Kendricks|       Kee|   [Flower & Garnet]|2304.39|http://dummyimage...|   1999-11-14|  true|\n",
      "| 57|   Krystle|   Shovell|[Doomsday, Flight...|2260.76|http://dummyimage...|   1987-09-01|  true|\n",
      "| 60|       Bev|    Symcox|[Alvin and the Ch...|2586.38|http://dummyimage...|   1976-11-09|  true|\n",
      "| 67|   Feodora|Giacomazzo|[Death Watch (La ...| 2122.2|http://dummyimage...|   1971-12-19|  true|\n",
      "| 69|  Annabell|   Doughty|[Entertaining Ang...|2022.57|http://dummyimage...|   2000-09-03|  true|\n",
      "| 75|    Norean|      Baum|[Fright Night, Bl...|2924.43|http://dummyimage...|   1974-03-27|  true|\n",
      "| 78|     Nyssa|  Rajchert|[Little Accidents...|2697.06|http://dummyimage...|   1987-08-28|  true|\n",
      "| 79|     Deina|   Pennick|[Invisible Invade...|1048.92|http://dummyimage...|   1999-11-28|  true|\n",
      "| 86|    Welbie|   Crackel|[All That Heaven ...|2720.28|http://dummyimage...|   1990-10-24|  true|\n",
      "| 98|     Davin|      Labb|[Viva Riva!, Kill...|1452.74|http://dummyimage...|   1988-01-27|  true|\n",
      "|100|    Virgie|  Domanski|[Horseman, The, S...|2165.93|http://dummyimage...|   2002-01-05|  true|\n",
      "+---+----------+----------+--------------------+-------+--------------------+-------------+------+\n",
      "\n"
     ]
    }
   ],
   "source": [
    "persons_df.where((col('salary') <= 3000) & (col('active') == True)).show()"
   ]
  },
  {
   "cell_type": "code",
   "execution_count": 26,
   "id": "4165ab1d-e9af-45ed-afd3-2bb642e102c8",
   "metadata": {},
   "outputs": [],
   "source": [
    "from pyspark.sql.functions import year"
   ]
  },
  {
   "cell_type": "code",
   "execution_count": 27,
   "id": "7e3ecd74-dd9b-4c82-b70d-0b712536c529",
   "metadata": {},
   "outputs": [
    {
     "name": "stdout",
     "output_type": "stream",
     "text": [
      "+---+----------+-----------+--------------------+-------+--------------------+-------------+------+\n",
      "| id|first_name|  last_name|          fav_movies| salary|           image_url|date_of_birth|active|\n",
      "+---+----------+-----------+--------------------+-------+--------------------+-------------+------+\n",
      "| 14|   Ambrosi|   Vidineev|[Wall Street: Mon...|4550.88|http://dummyimage...|   1989-07-20|  true|\n",
      "| 15|    Feodor|Nancekivell|   [Monsoon Wedding]|2218.46|http://dummyimage...|   2000-10-07| false|\n",
      "| 18|     Alfie|   Hatliffe|     [Lord of Tears]| 3893.1|http://dummyimage...|   1989-06-21|  true|\n",
      "| 25|     Kelcy|     Wogdon|    [Iron Mask, The]|4512.51|http://dummyimage...|   2000-10-20|  true|\n",
      "| 32|      Redd|   Akenhead|[Century of the D...| 2470.9|http://dummyimage...|   2000-06-05| false|\n",
      "| 34|     Davis|      Pinks|          [Hounddog]|1337.14|http://dummyimage...|   1989-07-27|  true|\n",
      "| 61|    Shanna|    Samples|[Thomas in Love (...| 2703.0|http://dummyimage...|   1989-07-07| false|\n",
      "| 69|  Annabell|    Doughty|[Entertaining Ang...|2022.57|http://dummyimage...|   2000-09-03|  true|\n",
      "| 74|     Micky|     Umfrey|[Haunted House, T...|1271.82|http://dummyimage...|   1989-07-04| false|\n",
      "| 88|     Jobie|    Maughan|[Devils on the Do...| 3899.2|http://dummyimage...|   2000-02-07| false|\n",
      "+---+----------+-----------+--------------------+-------+--------------------+-------------+------+\n",
      "\n"
     ]
    }
   ],
   "source": [
    "persons_df.filter((year('date_of_birth') == 2000) | (year('date_of_birth') == 1989)).show()"
   ]
  },
  {
   "cell_type": "code",
   "execution_count": 28,
   "id": "008c621b-ecc8-4e0a-adc4-f0a1e95e405e",
   "metadata": {},
   "outputs": [],
   "source": [
    "from pyspark.sql.functions import array_contains"
   ]
  },
  {
   "cell_type": "code",
   "execution_count": 29,
   "id": "4433d932-e5d1-4e61-aa3e-30d608525e1d",
   "metadata": {},
   "outputs": [
    {
     "name": "stdout",
     "output_type": "stream",
     "text": [
      "+---+----------+---------+--------------------+-------+--------------------+-------------+------+\n",
      "| id|first_name|last_name|          fav_movies| salary|           image_url|date_of_birth|active|\n",
      "+---+----------+---------+--------------------+-------+--------------------+-------------+------+\n",
      "| 11|   Timothy|   Ervine|[Land of the Lost...|1147.61|http://dummyimage...|   1971-06-02| false|\n",
      "+---+----------+---------+--------------------+-------+--------------------+-------------+------+\n",
      "\n"
     ]
    }
   ],
   "source": [
    "persons_df.where(array_contains(persons_df.fav_movies, 'Land of the Lost')).show()"
   ]
  },
  {
   "cell_type": "markdown",
   "id": "9f5a51db-9fea-44c9-8ac6-4d883a3a081c",
   "metadata": {},
   "source": [
    "## Distinct, Drop duplicates, Order by"
   ]
  },
  {
   "cell_type": "code",
   "execution_count": 30,
   "id": "a4272019-40d5-4098-b731-9e3b4681f196",
   "metadata": {},
   "outputs": [],
   "source": [
    "from pyspark.sql.functions import count, desc"
   ]
  },
  {
   "cell_type": "code",
   "execution_count": 31,
   "id": "270c9239-6a42-40f5-923c-a80be88b6580",
   "metadata": {},
   "outputs": [
    {
     "name": "stdout",
     "output_type": "stream",
     "text": [
      "+------+\n",
      "|active|\n",
      "+------+\n",
      "|  true|\n",
      "| false|\n",
      "+------+\n",
      "\n"
     ]
    }
   ],
   "source": [
    "persons_df.select('active').distinct().show()"
   ]
  },
  {
   "cell_type": "code",
   "execution_count": 32,
   "id": "3e5add89-28a3-4568-b1f9-77969e38a13b",
   "metadata": {},
   "outputs": [
    {
     "name": "stdout",
     "output_type": "stream",
     "text": [
      "+----------+----+------+\n",
      "|first_name|year|active|\n",
      "+----------+----+------+\n",
      "|    Adrian|1971| false|\n",
      "|   Feodora|1971|  true|\n",
      "|       Sky|1971| false|\n",
      "|   Timothy|1971| false|\n",
      "|    Lucita|1972|  true|\n",
      "|      Rodi|1972| false|\n",
      "|  Sherline|1972|  true|\n",
      "|     Toddy|1972|  true|\n",
      "|  Dominica|1973| false|\n",
      "|    Kelila|1973|  true|\n",
      "|  Wolfgang|1973|  true|\n",
      "|   Balduin|1974| false|\n",
      "|     Emory|1974|  true|\n",
      "|    Norean|1974|  true|\n",
      "|    Janean|1975|  true|\n",
      "|       Bev|1976|  true|\n",
      "| Franciska|1976| false|\n",
      "|    Bennie|1977| false|\n",
      "|     Johny|1977| false|\n",
      "|    Daveta|1978| false|\n",
      "+----------+----+------+\n",
      "only showing top 20 rows\n",
      "\n"
     ]
    }
   ],
   "source": [
    "(\n",
    "    persons_df\n",
    "    .select(\n",
    "        col('first_name'), year(col('date_of_birth')).alias('year'), col('active'))\n",
    "    .orderBy('year', 'first_name')\n",
    "    .show()\n",
    ")"
   ]
  },
  {
   "cell_type": "code",
   "execution_count": 33,
   "id": "94b3eb4c-58d8-42d4-befd-fe6215492c59",
   "metadata": {},
   "outputs": [],
   "source": [
    "dropped_df = (\n",
    "    persons_df\n",
    "    .select(\n",
    "        col('first_name'),\n",
    "        year(col('date_of_birth')).alias('year'),\n",
    "        col('active')\n",
    "    )\n",
    "    .dropDuplicates(['year', 'active'])\n",
    "    .orderBy('year', 'first_name')\n",
    ")"
   ]
  },
  {
   "cell_type": "code",
   "execution_count": 34,
   "id": "4385a990-78ee-4544-83e3-a1e69d029e45",
   "metadata": {},
   "outputs": [
    {
     "name": "stdout",
     "output_type": "stream",
     "text": [
      "+----------+----+------+\n",
      "|first_name|year|active|\n",
      "+----------+----+------+\n",
      "|    Adrian|1971| false|\n",
      "|   Feodora|1971|  true|\n",
      "|      Rodi|1972| false|\n",
      "|  Sherline|1972|  true|\n",
      "|  Dominica|1973| false|\n",
      "|    Kelila|1973|  true|\n",
      "|   Balduin|1974| false|\n",
      "|     Emory|1974|  true|\n",
      "|    Janean|1975|  true|\n",
      "|       Bev|1976|  true|\n",
      "+----------+----+------+\n",
      "only showing top 10 rows\n",
      "\n"
     ]
    }
   ],
   "source": [
    "dropped_df.show(10)"
   ]
  },
  {
   "cell_type": "code",
   "execution_count": 35,
   "id": "003179da-3fc6-4bb4-acf9-23b93722361a",
   "metadata": {},
   "outputs": [
    {
     "name": "stdout",
     "output_type": "stream",
     "text": [
      "+----------+----+------+\n",
      "|first_name|year|active|\n",
      "+----------+----+------+\n",
      "|   Lorilee|2002| false|\n",
      "|    Virgie|2002|  true|\n",
      "|    Carlen|2002|  true|\n",
      "|     Daron|2002|  true|\n",
      "|    Maxine|2001| false|\n",
      "|    Feodor|2000| false|\n",
      "|  Annabell|2000|  true|\n",
      "|     Kelcy|2000|  true|\n",
      "|     Jobie|2000| false|\n",
      "|      Redd|2000| false|\n",
      "|  Theodore|1999| false|\n",
      "| Kendricks|1999|  true|\n",
      "|    Cecily|1999|  true|\n",
      "|      Jere|1999| false|\n",
      "|  Elianora|1999| false|\n",
      "|     Deina|1999|  true|\n",
      "|      Jere|1998| false|\n",
      "|    Wilden|1998| false|\n",
      "|      Rudy|1998|  true|\n",
      "|    Eugine|1998| false|\n",
      "+----------+----+------+\n",
      "only showing top 20 rows\n",
      "\n"
     ]
    }
   ],
   "source": [
    "(\n",
    "    persons_df\n",
    "    .select(\n",
    "        col('first_name'), year(col('date_of_birth')).alias('year'), col('active'))\n",
    "    .orderBy('year', ascending=False)\n",
    "    .show()\n",
    ")"
   ]
  },
  {
   "cell_type": "markdown",
   "id": "6be52733-d701-49f6-a077-b8a9e26f58d2",
   "metadata": {},
   "source": [
    "## Unions and rows"
   ]
  },
  {
   "cell_type": "code",
   "execution_count": 36,
   "id": "c2325925-0c91-488f-8dfd-b0926f918017",
   "metadata": {},
   "outputs": [],
   "source": [
    "from pyspark.sql import Row"
   ]
  },
  {
   "cell_type": "code",
   "execution_count": 37,
   "id": "d272ed96-5c22-4a26-9051-158c7318642e",
   "metadata": {},
   "outputs": [],
   "source": [
    "persons_row = Row(101, 'Breno', 'Gomes', ['Arrive', 'Parasite'], 4300.54, 'github.com/BrenoShelby', '20-08-2001', True)"
   ]
  },
  {
   "cell_type": "code",
   "execution_count": 38,
   "id": "8a28728d-cb52-4637-bc06-08453d260283",
   "metadata": {},
   "outputs": [],
   "source": [
    "persons_rows_list = [\n",
    "    Row(101, 'Breno', 'Gomes', ['Arrive', 'Parasite'], 4300.54, 'github.com/BrenoShelby', '20-08-2001', True),\n",
    "    Row(103, 'Juliana', 'Gomes', ['Arrive', 'Parasite'], 4300.54, 'github.com/BrenoShelby', '13-06-2000', True)\n",
    "]"
   ]
  },
  {
   "cell_type": "code",
   "execution_count": 39,
   "id": "332b4a64-81e6-4f60-9266-61a8c643b033",
   "metadata": {},
   "outputs": [],
   "source": [
    "news_persons_df = spark.createDataFrame(\n",
    "    persons_rows_list, ['id', 'first_name', 'last_name', 'fav_movies', 'salary', 'url', 'date_of_birth', 'active']\n",
    ")"
   ]
  },
  {
   "cell_type": "code",
   "execution_count": 40,
   "id": "62419e7a-75a0-48b0-b45e-7330f9fd82f7",
   "metadata": {},
   "outputs": [
    {
     "name": "stdout",
     "output_type": "stream",
     "text": [
      "root\n",
      " |-- id: long (nullable = true)\n",
      " |-- first_name: string (nullable = true)\n",
      " |-- last_name: string (nullable = true)\n",
      " |-- fav_movies: array (nullable = true)\n",
      " |    |-- element: string (containsNull = true)\n",
      " |-- salary: double (nullable = true)\n",
      " |-- url: string (nullable = true)\n",
      " |-- date_of_birth: string (nullable = true)\n",
      " |-- active: boolean (nullable = true)\n",
      "\n"
     ]
    }
   ],
   "source": [
    "news_persons_df.printSchema()"
   ]
  },
  {
   "cell_type": "code",
   "execution_count": 41,
   "id": "2b790633-3ff3-444a-8c7a-cc15493cb778",
   "metadata": {},
   "outputs": [
    {
     "name": "stdout",
     "output_type": "stream",
     "text": [
      "+---+----------+---------+--------------------+------------------+--------------------+-------------+------+\n",
      "| id|first_name|last_name|          fav_movies|            salary|           image_url|date_of_birth|active|\n",
      "+---+----------+---------+--------------------+------------------+--------------------+-------------+------+\n",
      "|103|   Juliana|    Gomes|  [Arrive, Parasite]|           4300.54|github.com/BrenoS...|   13-06-2000|  true|\n",
      "|101|     Breno|    Gomes|  [Arrive, Parasite]|           4300.54|github.com/BrenoS...|   20-08-2001|  true|\n",
      "|100|    Virgie| Domanski|[Horseman, The, S...| 2165.929931640625|http://dummyimage...|   2002-01-05|  true|\n",
      "| 99|   Rozalie|   Wannop|[Suddenly, The No...|1259.6400146484375|http://dummyimage...|   1997-03-25| false|\n",
      "| 98|     Davin|     Labb|[Viva Riva!, Kill...| 1452.739990234375|http://dummyimage...|   1988-01-27|  true|\n",
      "| 97|      Rodi|   Farnan|[Code, The (Menta...|   2325.8798828125|http://dummyimage...|   1972-01-04| false|\n",
      "| 96|       Dew| Coopland|              [Rush]|  2725.56005859375|http://dummyimage...|   1986-11-14| false|\n",
      "| 95|      Cobb|  MacLure|[Storage 24, His ...|1621.1700439453125|http://dummyimage...|   1994-06-28| false|\n",
      "| 94|    Bennie|   Knight|[House on Carroll...| 2370.239990234375|http://dummyimage...|   1977-08-27| false|\n",
      "| 93|    Janean|     Pelz|              [Once]|    4906.919921875|http://dummyimage...|   1975-09-23|  true|\n",
      "+---+----------+---------+--------------------+------------------+--------------------+-------------+------+\n",
      "only showing top 10 rows\n",
      "\n"
     ]
    }
   ],
   "source": [
    "# desc means descending order\n",
    "union_persons_df = persons_df.union(news_persons_df)\n",
    "union_persons_df.sort(desc('id')).show(10)"
   ]
  },
  {
   "cell_type": "markdown",
   "id": "9b392f2e-7286-4449-9833-cc728c321c73",
   "metadata": {},
   "source": [
    "## Adding, Renaming and Dropping columns"
   ]
  },
  {
   "cell_type": "code",
   "execution_count": 42,
   "id": "69e685f1-b14c-4141-910e-5e7cddea6b91",
   "metadata": {},
   "outputs": [],
   "source": [
    "from pyspark.sql.functions import round"
   ]
  },
  {
   "cell_type": "code",
   "execution_count": 43,
   "id": "c3b8b181-e2db-4cee-ab1e-9dfbe70b59ed",
   "metadata": {},
   "outputs": [
    {
     "name": "stdout",
     "output_type": "stream",
     "text": [
      "+---+----------+---------+--------------------+-------+--------------------+-------------+------+------------------+\n",
      "| id|first_name|last_name|          fav_movies| salary|           image_url|date_of_birth|active|   salary_increase|\n",
      "+---+----------+---------+--------------------+-------+--------------------+-------------+------+------------------+\n",
      "|  1|     Drucy|    Poppy|  [I giorni contati]|1463.36|http://dummyimage...|   1991-02-16|  true|1609.6959838867188|\n",
      "|  2|   Emelyne|    Blaza|[Musketeer, The, ...|3006.04|http://dummyimage...|   1991-11-02| false|  3306.64404296875|\n",
      "|  3|       Max|   Rettie|[The Forgotten Sp...|1422.88|http://dummyimage...|   1990-03-03| false|1565.1680053710938|\n",
      "|  4|    Ilario|     Kean|[Up Close and Per...|3561.36|http://dummyimage...|   1987-06-09|  true|3917.4961181640624|\n",
      "|  5|     Toddy|   Drexel|[Walk in the Clou...|4934.87|http://dummyimage...|   1992-10-28|  true|  5428.35712890625|\n",
      "|  6|    Oswald| Petrolli|[Wing and the Thi...|1153.23|http://dummyimage...|   1986-09-02| false| 1268.552978515625|\n",
      "|  7|    Adrian|   Clarey|[Walking Tall, Pa...|1044.73|http://dummyimage...|   1971-08-24| false| 1149.202978515625|\n",
      "|  8|  Dominica|  Goodnow|    [Hearts Divided]|1147.76|http://dummyimage...|   1973-08-27| false|1262.5360107421875|\n",
      "|  9|     Emory|  Slocomb|[Snake and Crane ...|1082.11|http://dummyimage...|   1974-06-08|  true|1190.3209838867188|\n",
      "| 10|  Jeremias|     Bode|[Farewell to Arms...|3472.63|http://dummyimage...|   1997-08-02|  true|  3819.89287109375|\n",
      "+---+----------+---------+--------------------+-------+--------------------+-------------+------+------------------+\n",
      "only showing top 10 rows\n",
      "\n"
     ]
    }
   ],
   "source": [
    "aug_persons_df1 = persons_df.withColumn('salary_increase', expr('salary * .1 + salary'))\n",
    "aug_persons_df1.show(10)"
   ]
  },
  {
   "cell_type": "code",
   "execution_count": 44,
   "id": "bf26aef6-bf15-42c0-abb1-f197a8b577cb",
   "metadata": {},
   "outputs": [
    {
     "data": {
      "text/plain": [
       "['id',\n",
       " 'first_name',\n",
       " 'last_name',\n",
       " 'fav_movies',\n",
       " 'salary',\n",
       " 'image_url',\n",
       " 'date_of_birth',\n",
       " 'active',\n",
       " 'salary_increase']"
      ]
     },
     "execution_count": 44,
     "metadata": {},
     "output_type": "execute_result"
    }
   ],
   "source": [
    "aug_persons_df1.columns"
   ]
  },
  {
   "cell_type": "code",
   "execution_count": 45,
   "id": "ee44d3de-32f0-4ff0-83c2-1ad104b22a45",
   "metadata": {},
   "outputs": [],
   "source": [
    "aug_persons_df2 = (\n",
    "    aug_persons_df1\n",
    "    .withColumn('birth_year', year('date_of_birth'))\n",
    "    .withColumnRenamed('fav_movies', 'movies')\n",
    "    .withColumn('salary_x10', round(col('salary_increase'), 2))\n",
    "    .drop('salary_increase')\n",
    ") "
   ]
  },
  {
   "cell_type": "code",
   "execution_count": 46,
   "id": "3a6feb77-3692-47ef-9990-cece0d271c8d",
   "metadata": {},
   "outputs": [
    {
     "name": "stdout",
     "output_type": "stream",
     "text": [
      "+---+----------+---------+--------------------+-------+--------------------+-------------+------+----------+----------+\n",
      "| id|first_name|last_name|              movies| salary|           image_url|date_of_birth|active|birth_year|salary_x10|\n",
      "+---+----------+---------+--------------------+-------+--------------------+-------------+------+----------+----------+\n",
      "|  1|     Drucy|    Poppy|  [I giorni contati]|1463.36|http://dummyimage...|   1991-02-16|  true|      1991|    1609.7|\n",
      "|  2|   Emelyne|    Blaza|[Musketeer, The, ...|3006.04|http://dummyimage...|   1991-11-02| false|      1991|   3306.64|\n",
      "|  3|       Max|   Rettie|[The Forgotten Sp...|1422.88|http://dummyimage...|   1990-03-03| false|      1990|   1565.17|\n",
      "|  4|    Ilario|     Kean|[Up Close and Per...|3561.36|http://dummyimage...|   1987-06-09|  true|      1987|    3917.5|\n",
      "|  5|     Toddy|   Drexel|[Walk in the Clou...|4934.87|http://dummyimage...|   1992-10-28|  true|      1992|   5428.36|\n",
      "|  6|    Oswald| Petrolli|[Wing and the Thi...|1153.23|http://dummyimage...|   1986-09-02| false|      1986|   1268.55|\n",
      "|  7|    Adrian|   Clarey|[Walking Tall, Pa...|1044.73|http://dummyimage...|   1971-08-24| false|      1971|    1149.2|\n",
      "|  8|  Dominica|  Goodnow|    [Hearts Divided]|1147.76|http://dummyimage...|   1973-08-27| false|      1973|   1262.54|\n",
      "|  9|     Emory|  Slocomb|[Snake and Crane ...|1082.11|http://dummyimage...|   1974-06-08|  true|      1974|   1190.32|\n",
      "| 10|  Jeremias|     Bode|[Farewell to Arms...|3472.63|http://dummyimage...|   1997-08-02|  true|      1997|   3819.89|\n",
      "+---+----------+---------+--------------------+-------+--------------------+-------------+------+----------+----------+\n",
      "only showing top 10 rows\n",
      "\n"
     ]
    }
   ],
   "source": [
    "aug_persons_df2.show(10)"
   ]
  },
  {
   "cell_type": "markdown",
   "id": "6ebd99c3-2346-49ca-9c99-17593bd0fd7e",
   "metadata": {},
   "source": [
    "## Working with missing or bad data"
   ]
  },
  {
   "cell_type": "code",
   "execution_count": 47,
   "id": "418d80c6-c49b-4f80-8c27-1429de1dccd8",
   "metadata": {},
   "outputs": [],
   "source": [
    "bad_movies_list = [Row(None, None, None),\n",
    "                   Row(None, None, 2020),\n",
    "                   Row(\"John Doe\", \"Awesome Movie\", None),\n",
    "                   Row(None, \"Awesome Movie\", 2021),\n",
    "                   Row(\"Mary Jane\", None, 2019),\n",
    "                   Row(\"Vikter Duplaix\", \"Not another teen movie\", 2001)]"
   ]
  },
  {
   "cell_type": "code",
   "execution_count": 48,
   "id": "2c76087e-e968-4c26-9694-3cae3a182adf",
   "metadata": {},
   "outputs": [],
   "source": [
    "bad_movies_columns = ['actor_name', 'movie_title', 'produced_year']"
   ]
  },
  {
   "cell_type": "code",
   "execution_count": 49,
   "id": "188c7bef-1043-4b8f-a98b-74c27fe608e5",
   "metadata": {},
   "outputs": [],
   "source": [
    "bad_movies_df = spark.createDataFrame(bad_movies_list, schema=bad_movies_columns)"
   ]
  },
  {
   "cell_type": "code",
   "execution_count": 50,
   "id": "f44c9683-329c-4049-97e0-175c48fa712c",
   "metadata": {},
   "outputs": [
    {
     "name": "stdout",
     "output_type": "stream",
     "text": [
      "+--------------+--------------------+-------------+\n",
      "|    actor_name|         movie_title|produced_year|\n",
      "+--------------+--------------------+-------------+\n",
      "|          null|                null|         null|\n",
      "|          null|                null|         2020|\n",
      "|      John Doe|       Awesome Movie|         null|\n",
      "|          null|       Awesome Movie|         2021|\n",
      "|     Mary Jane|                null|         2019|\n",
      "|Vikter Duplaix|Not another teen ...|         2001|\n",
      "+--------------+--------------------+-------------+\n",
      "\n"
     ]
    }
   ],
   "source": [
    "bad_movies_df.show()"
   ]
  },
  {
   "cell_type": "code",
   "execution_count": 51,
   "id": "45f808ac-ba79-44b2-8409-b8bfa514d6b5",
   "metadata": {},
   "outputs": [
    {
     "name": "stdout",
     "output_type": "stream",
     "text": [
      "+--------------+--------------------+-------------+\n",
      "|    actor_name|         movie_title|produced_year|\n",
      "+--------------+--------------------+-------------+\n",
      "|Vikter Duplaix|Not another teen ...|         2001|\n",
      "+--------------+--------------------+-------------+\n",
      "\n"
     ]
    }
   ],
   "source": [
    "bad_movies_df.na.drop().show()"
   ]
  },
  {
   "cell_type": "code",
   "execution_count": 52,
   "id": "78761db7-43e3-40a4-9595-d966d121ec91",
   "metadata": {},
   "outputs": [
    {
     "name": "stdout",
     "output_type": "stream",
     "text": [
      "+--------------+--------------------+-------------+\n",
      "|    actor_name|         movie_title|produced_year|\n",
      "+--------------+--------------------+-------------+\n",
      "|Vikter Duplaix|Not another teen ...|         2001|\n",
      "+--------------+--------------------+-------------+\n",
      "\n"
     ]
    }
   ],
   "source": [
    "bad_movies_df.na.drop('any').show()"
   ]
  },
  {
   "cell_type": "code",
   "execution_count": 53,
   "id": "ebf20809-f13b-4bbe-885c-f607805bb198",
   "metadata": {},
   "outputs": [
    {
     "name": "stdout",
     "output_type": "stream",
     "text": [
      "+--------------+--------------------+-------------+\n",
      "|    actor_name|         movie_title|produced_year|\n",
      "+--------------+--------------------+-------------+\n",
      "|          null|                null|         2020|\n",
      "|      John Doe|       Awesome Movie|         null|\n",
      "|          null|       Awesome Movie|         2021|\n",
      "|     Mary Jane|                null|         2019|\n",
      "|Vikter Duplaix|Not another teen ...|         2001|\n",
      "+--------------+--------------------+-------------+\n",
      "\n"
     ]
    }
   ],
   "source": [
    "bad_movies_df.na.drop('all').show()"
   ]
  },
  {
   "cell_type": "code",
   "execution_count": 54,
   "id": "a8dee717-2bef-4ca1-9b65-7b1b0dc1b116",
   "metadata": {},
   "outputs": [
    {
     "name": "stdout",
     "output_type": "stream",
     "text": [
      "+--------------+--------------------+-------------+\n",
      "|    actor_name|         movie_title|produced_year|\n",
      "+--------------+--------------------+-------------+\n",
      "|      John Doe|       Awesome Movie|         null|\n",
      "|     Mary Jane|                null|         2019|\n",
      "|Vikter Duplaix|Not another teen ...|         2001|\n",
      "+--------------+--------------------+-------------+\n",
      "\n"
     ]
    }
   ],
   "source": [
    "bad_movies_df.filter(col('actor_name').isNull() != True).show()"
   ]
  },
  {
   "cell_type": "code",
   "execution_count": 55,
   "id": "f65fef42-94c2-4dcc-a57f-fed5420b765d",
   "metadata": {},
   "outputs": [
    {
     "name": "stdout",
     "output_type": "stream",
     "text": [
      "+-------+-----------------+\n",
      "|summary|    produced_year|\n",
      "+-------+-----------------+\n",
      "|  count|                4|\n",
      "|   mean|          2015.25|\n",
      "| stddev|9.535023160258536|\n",
      "|    min|             2001|\n",
      "|    max|             2021|\n",
      "+-------+-----------------+\n",
      "\n"
     ]
    }
   ],
   "source": [
    "bad_movies_df.describe('produced_year').show()"
   ]
  },
  {
   "cell_type": "code",
   "execution_count": 56,
   "id": "2641cf73-83f1-449d-9689-9190a56b8cb8",
   "metadata": {},
   "outputs": [
    {
     "name": "stdout",
     "output_type": "stream",
     "text": [
      "+-------+--------------+\n",
      "|summary|    actor_name|\n",
      "+-------+--------------+\n",
      "|  count|             3|\n",
      "|   mean|          null|\n",
      "| stddev|          null|\n",
      "|    min|      John Doe|\n",
      "|    max|Vikter Duplaix|\n",
      "+-------+--------------+\n",
      "\n"
     ]
    }
   ],
   "source": [
    "bad_movies_df.describe('actor_name').show()"
   ]
  },
  {
   "cell_type": "markdown",
   "id": "168e24ce-1cf6-4157-837c-63787302450d",
   "metadata": {},
   "source": [
    "## Working with user Defined Functions"
   ]
  },
  {
   "cell_type": "markdown",
   "id": "2e3eed9f-b4bd-43a5-954f-54f3326c7d8f",
   "metadata": {},
   "source": [
    "### Spark UDF are very poorly optimized, try to avoid using them as much as you possibly can"
   ]
  },
  {
   "cell_type": "code",
   "execution_count": 57,
   "id": "b9a79e95-7698-4073-8b4d-dc074e06483e",
   "metadata": {},
   "outputs": [],
   "source": [
    "from pyspark.sql.functions import udf"
   ]
  },
  {
   "cell_type": "code",
   "execution_count": 58,
   "id": "027c3961-e1bd-48a2-9636-07bd44878ee1",
   "metadata": {},
   "outputs": [],
   "source": [
    "students_list = [\n",
    "    ('Joe', 85),\n",
    "    ('Jane', 88),\n",
    "    ('Mary', 83),\n",
    "]"
   ]
  },
  {
   "cell_type": "code",
   "execution_count": 59,
   "id": "a5613da1-927c-4ecf-944f-7fe2c76d0fdc",
   "metadata": {},
   "outputs": [],
   "source": [
    "students_columns = ['name', 'score']"
   ]
  },
  {
   "cell_type": "code",
   "execution_count": 60,
   "id": "9404a812-3a07-4556-841e-224f820bd405",
   "metadata": {},
   "outputs": [],
   "source": [
    "students_df = spark.createDataFrame(students_list, schema=students_columns)"
   ]
  },
  {
   "cell_type": "code",
   "execution_count": 61,
   "id": "3bbae7f6-103e-407b-b8ac-f555bd5150dc",
   "metadata": {},
   "outputs": [],
   "source": [
    "def letterGrade(score: int):\n",
    "    grade = ''\n",
    "    \n",
    "    if score > 100:\n",
    "        grade = 'Cheating'\n",
    "    if score >= 90 and score <= 100:\n",
    "        grade = 'A'\n",
    "    if score >= 80 and score < 90:\n",
    "        grade = 'B'\n",
    "    if score >= 70 and score < 80:\n",
    "        grade = 'C'\n",
    "    \n",
    "    return grade"
   ]
  },
  {
   "cell_type": "code",
   "execution_count": 62,
   "id": "49b331bb-cf74-4fb2-bc92-3ec2d92e7b42",
   "metadata": {},
   "outputs": [],
   "source": [
    "letterGradeUDF = udf(letterGrade)"
   ]
  },
  {
   "cell_type": "code",
   "execution_count": 63,
   "id": "894642cc-c79e-427c-98e3-331273ef1cb2",
   "metadata": {},
   "outputs": [
    {
     "name": "stdout",
     "output_type": "stream",
     "text": [
      "+----+-----+-----+\n",
      "|name|score|grade|\n",
      "+----+-----+-----+\n",
      "| Joe|   85|    B|\n",
      "|Jane|   88|    B|\n",
      "|Mary|   83|    B|\n",
      "+----+-----+-----+\n",
      "\n"
     ]
    }
   ],
   "source": [
    "students_df.select('name', 'score', letterGradeUDF(col('score')).alias('grade')).show()"
   ]
  },
  {
   "cell_type": "code",
   "execution_count": null,
   "id": "a8036f41-2f0e-43a1-b345-581c1a438b93",
   "metadata": {},
   "outputs": [],
   "source": []
  }
 ],
 "metadata": {
  "kernelspec": {
   "display_name": "Python 3 (ipykernel)",
   "language": "python",
   "name": "python3"
  },
  "language_info": {
   "codemirror_mode": {
    "name": "ipython",
    "version": 3
   },
   "file_extension": ".py",
   "mimetype": "text/x-python",
   "name": "python",
   "nbconvert_exporter": "python",
   "pygments_lexer": "ipython3",
   "version": "3.9.7"
  }
 },
 "nbformat": 4,
 "nbformat_minor": 5
}
