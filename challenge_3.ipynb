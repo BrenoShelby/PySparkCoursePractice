{
 "cells": [
  {
   "cell_type": "markdown",
   "id": "5d9f0fdf",
   "metadata": {},
   "source": [
    "# Challenge 3"
   ]
  },
  {
   "cell_type": "code",
   "execution_count": 1,
   "id": "bba85841",
   "metadata": {},
   "outputs": [],
   "source": [
    "from pyspark.sql import SparkSession\n",
    "import pyspark.sql.functions as F\n",
    "import pyspark.sql.types as T"
   ]
  },
  {
   "cell_type": "code",
   "execution_count": 2,
   "id": "425f3fe0",
   "metadata": {},
   "outputs": [],
   "source": [
    "spark = (\n",
    "    SparkSession.\n",
    "    builder.\n",
    "    appName('Pyspark_Challenge_3').\n",
    "    getOrCreate()\n",
    ")"
   ]
  },
  {
   "cell_type": "code",
   "execution_count": 3,
   "id": "47452319",
   "metadata": {},
   "outputs": [],
   "source": [
    "sales_df = (\n",
    "    spark.\n",
    "    read.\n",
    "    option('inferSchema', True).\n",
    "    option('header', True).\n",
    "    csv('data/salesdata')\n",
    ")"
   ]
  },
  {
   "cell_type": "code",
   "execution_count": 4,
   "id": "5c8556ee",
   "metadata": {},
   "outputs": [
    {
     "name": "stdout",
     "output_type": "stream",
     "text": [
      "+--------+--------------------+----------------+----------+--------------+--------------------+\n",
      "|Order ID|             Product|Quantity Ordered|Price Each|    Order Date|    Purchase Address|\n",
      "+--------+--------------------+----------------+----------+--------------+--------------------+\n",
      "|  295665|  Macbook Pro Laptop|               1|    1700.0|12/30/19 00:01|136 Church St, Ne...|\n",
      "|  295666|  LG Washing Machine|               1|     600.0|12/29/19 07:03|562 2nd St, New Y...|\n",
      "|  295667|USB-C Charging Cable|               1|     11.95|12/12/19 18:21|277 Main St, New ...|\n",
      "|  295668|    27in FHD Monitor|               1|    149.99|12/22/19 15:13|410 6th St, San F...|\n",
      "|  295669|USB-C Charging Cable|               1|     11.95|12/18/19 12:38|43 Hill St, Atlan...|\n",
      "|  295670|AA Batteries (4-p...|               1|      3.84|12/31/19 22:58|200 Jefferson St,...|\n",
      "|  295671|USB-C Charging Cable|               1|     11.95|12/16/19 15:10|928 12th St, Port...|\n",
      "|  295672|USB-C Charging Cable|               2|     11.95|12/13/19 09:29|813 Hickory St, D...|\n",
      "|  295673|Bose SoundSport H...|               1|     99.99|12/15/19 23:26|718 Wilson St, Da...|\n",
      "|  295674|AAA Batteries (4-...|               4|      2.99|12/28/19 11:51|77 7th St, Dallas...|\n",
      "+--------+--------------------+----------------+----------+--------------+--------------------+\n",
      "only showing top 10 rows\n",
      "\n"
     ]
    }
   ],
   "source": [
    "sales_df.show(10)"
   ]
  },
  {
   "cell_type": "code",
   "execution_count": 5,
   "id": "6a95b137",
   "metadata": {},
   "outputs": [
    {
     "name": "stdout",
     "output_type": "stream",
     "text": [
      "root\n",
      " |-- Order ID: integer (nullable = true)\n",
      " |-- Product: string (nullable = true)\n",
      " |-- Quantity Ordered: integer (nullable = true)\n",
      " |-- Price Each: double (nullable = true)\n",
      " |-- Order Date: string (nullable = true)\n",
      " |-- Purchase Address: string (nullable = true)\n",
      "\n"
     ]
    }
   ],
   "source": [
    "sales_df.printSchema()"
   ]
  },
  {
   "cell_type": "code",
   "execution_count": 6,
   "id": "f8504671",
   "metadata": {},
   "outputs": [],
   "source": [
    "sales_df = (\n",
    "    sales_df.\n",
    "    select(\n",
    "        F.col('Order ID'),\n",
    "        F.col('Product'),\n",
    "        F.col('Quantity Ordered'),\n",
    "        F.col('Price Each'),\n",
    "        F.col('Purchase Address'),\n",
    "        F.to_timestamp(F.col('Order Date'), 'MM/dd/yy HH:mm').alias('Order Date')\n",
    "    )\n",
    ")"
   ]
  },
  {
   "cell_type": "markdown",
   "id": "0f0e96a6",
   "metadata": {},
   "source": [
    "### The best month for sales"
   ]
  },
  {
   "cell_type": "code",
   "execution_count": 7,
   "id": "c325e16e",
   "metadata": {},
   "outputs": [
    {
     "name": "stdout",
     "output_type": "stream",
     "text": [
      "+-----+------------------+\n",
      "|Month|        Price Each|\n",
      "+-----+------------------+\n",
      "|   12| 4588415.410001603|\n",
      "|   10|3715554.8300010366|\n",
      "|    4| 3367671.020000747|\n",
      "|   11| 3180600.680000648|\n",
      "|    5|3135125.1300005997|\n",
      "|    3|2791207.8300004015|\n",
      "|    7| 2632539.560000266|\n",
      "|    6| 2562025.610000203|\n",
      "|    8|2230345.4200000055|\n",
      "|    2|2188884.7199999737|\n",
      "|    9|2084992.0899999128|\n",
      "|    1|1811768.3799999235|\n",
      "+-----+------------------+\n",
      "\n"
     ]
    }
   ],
   "source": [
    "(\n",
    "    sales_df.\n",
    "    select(\n",
    "        '*',\n",
    "        F.col('Price Each') * F.col('Quantity Ordered'),\n",
    "        F.month(F.col('Order Date')).alias('Month')\n",
    "    ).\n",
    "    dropna().\n",
    "    groupBy('Month').\n",
    "    agg(F.sum('Price Each').alias('Price Each')).\n",
    "    orderBy('Price Each', ascending=False).\n",
    "    show()\n",
    ")"
   ]
  },
  {
   "cell_type": "markdown",
   "id": "68190228",
   "metadata": {},
   "source": [
    "### Which city actually sold the most products?"
   ]
  },
  {
   "cell_type": "code",
   "execution_count": 8,
   "id": "db3b1c8a",
   "metadata": {},
   "outputs": [
    {
     "name": "stdout",
     "output_type": "stream",
     "text": [
      "+-------------+----------------+\n",
      "|         City|Quantity Ordered|\n",
      "+-------------+----------------+\n",
      "|San Francisco|           50239|\n",
      "|  Los Angeles|           33289|\n",
      "|New York City|           27932|\n",
      "|       Boston|           22528|\n",
      "|       Dallas|           16730|\n",
      "|      Atlanta|           16602|\n",
      "|      Seattle|           16553|\n",
      "|     Portland|           14053|\n",
      "|       Austin|           11153|\n",
      "+-------------+----------------+\n",
      "\n"
     ]
    }
   ],
   "source": [
    "(\n",
    "    sales_df.\n",
    "    select(\n",
    "        F.col('Quantity Ordered'),\n",
    "        F.split(F.col('Purchase Address'), ', ').getItem(1).alias('City'),\n",
    "        F.split(F.split(F.col('Purchase Address'), ', ').getItem(2), ' ').getItem(0).alias('State')\n",
    "    ).\n",
    "    dropna().\n",
    "    groupBy('City').\n",
    "    agg(F.sum('Quantity Ordered').alias('Quantity Ordered')).\n",
    "    orderBy('Quantity Ordered', ascending=False).\n",
    "    show()\n",
    ")"
   ]
  },
  {
   "cell_type": "markdown",
   "id": "102ba1e5",
   "metadata": {},
   "source": [
    "### What time should we display advertisements to maximize the likelihood of customers buying products?"
   ]
  },
  {
   "cell_type": "code",
   "execution_count": 9,
   "id": "72b163cd",
   "metadata": {},
   "outputs": [
    {
     "name": "stdout",
     "output_type": "stream",
     "text": [
      "+----+-----------+\n",
      "|Hour|TotalOrders|\n",
      "+----+-----------+\n",
      "|  19|      12886|\n",
      "|  12|      12573|\n",
      "|  11|      12392|\n",
      "|  18|      12263|\n",
      "|  20|      12218|\n",
      "|  13|      12115|\n",
      "|  14|      10965|\n",
      "|  10|      10929|\n",
      "|  21|      10905|\n",
      "|  17|      10883|\n",
      "|  16|      10359|\n",
      "|  15|      10158|\n",
      "|  22|       8808|\n",
      "|   9|       8740|\n",
      "|  23|       6262|\n",
      "|   8|       6252|\n",
      "|   7|       4002|\n",
      "|   0|       3902|\n",
      "|   6|       2481|\n",
      "|   1|       2347|\n",
      "+----+-----------+\n",
      "only showing top 20 rows\n",
      "\n"
     ]
    }
   ],
   "source": [
    "(\n",
    "    sales_df.\n",
    "    select(\n",
    "        'Order ID',\n",
    "        F.col('Price Each') * F.col('Quantity Ordered'),\n",
    "        F.date_format(F.col('Order Date'), 'HH').cast('int').alias('Hour')\n",
    "    ).\n",
    "    distinct().\n",
    "    dropna().\n",
    "    groupBy('Hour').\n",
    "    agg(F.count('Hour').alias('TotalOrders')).\n",
    "    orderBy('TotalOrders', ascending=False).\n",
    "    show()\n",
    ")"
   ]
  },
  {
   "cell_type": "markdown",
   "id": "9386b0ed",
   "metadata": {},
   "source": [
    "### What products are often sold together in the state “NY”?"
   ]
  },
  {
   "cell_type": "code",
   "execution_count": 10,
   "id": "ccf48848",
   "metadata": {},
   "outputs": [
    {
     "name": "stdout",
     "output_type": "stream",
     "text": [
      "+--------------------+-----+\n",
      "|         ProductList|count|\n",
      "+--------------------+-----+\n",
      "|[iPhone, Lightnin...|  127|\n",
      "|[Google Phone, US...|  124|\n",
      "|[Google Phone, Wi...|   52|\n",
      "|[Vareebadd Phone,...|   49|\n",
      "|[iPhone, Wired He...|   46|\n",
      "|[iPhone, Apple Ai...|   43|\n",
      "|[Google Phone, Bo...|   23|\n",
      "|[Vareebadd Phone,...|   17|\n",
      "|[Apple Airpods He...|   12|\n",
      "|[Google Phone, US...|   11|\n",
      "+--------------------+-----+\n",
      "only showing top 10 rows\n",
      "\n"
     ]
    }
   ],
   "source": [
    "(\n",
    "    sales_df.\n",
    "    select(\n",
    "        'Order ID',\n",
    "        'Product',\n",
    "        F.split(F.split(F.col('Purchase Address'), ', ').getItem(2), ' ').getItem(0).alias('State')\n",
    "    ).\n",
    "    where('State == \"NY\"').\n",
    "    groupBy('Order ID', 'State').\n",
    "    agg(F.collect_list('Product').alias('ProductList')).\n",
    "    withColumn('ProductListSize', F.size('ProductList')).\n",
    "    filter('ProductListSize > 1').\n",
    "    groupBy('ProductList').\n",
    "    count().\n",
    "    orderBy('count', ascending=False).\n",
    "    show(10)\n",
    ")"
   ]
  }
 ],
 "metadata": {
  "kernelspec": {
   "display_name": "Python 3 (ipykernel)",
   "language": "python",
   "name": "python3"
  },
  "language_info": {
   "codemirror_mode": {
    "name": "ipython",
    "version": 3
   },
   "file_extension": ".py",
   "mimetype": "text/x-python",
   "name": "python",
   "nbconvert_exporter": "python",
   "pygments_lexer": "ipython3",
   "version": "3.9.7"
  }
 },
 "nbformat": 4,
 "nbformat_minor": 5
}
